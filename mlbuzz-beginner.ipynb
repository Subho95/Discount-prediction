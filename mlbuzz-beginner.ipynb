{
 "cells": [
  {
   "cell_type": "code",
   "execution_count": 1,
   "id": "808797b9",
   "metadata": {
    "_cell_guid": "b1076dfc-b9ad-4769-8c92-a6c4dae69d19",
    "_uuid": "8f2839f25d086af736a60e9eeb907d3b93b6e0e5",
    "execution": {
     "iopub.execute_input": "2021-09-25T17:50:34.615142Z",
     "iopub.status.busy": "2021-09-25T17:50:34.613848Z",
     "iopub.status.idle": "2021-09-25T17:50:34.635249Z",
     "shell.execute_reply": "2021-09-25T17:50:34.635772Z",
     "shell.execute_reply.started": "2021-09-25T11:50:10.125642Z"
    },
    "papermill": {
     "duration": 0.061259,
     "end_time": "2021-09-25T17:50:34.636071",
     "exception": false,
     "start_time": "2021-09-25T17:50:34.574812",
     "status": "completed"
    },
    "tags": []
   },
   "outputs": [
    {
     "name": "stdout",
     "output_type": "stream",
     "text": [
      "/kaggle/input/beginner-regression/sample_submission.csv\n",
      "/kaggle/input/beginner-regression/train.csv\n",
      "/kaggle/input/beginner-regression/test.csv\n"
     ]
    }
   ],
   "source": [
    "# This Python 3 environment comes with many helpful analytics libraries installed\n",
    "# It is defined by the kaggle/python Docker image: https://github.com/kaggle/docker-python\n",
    "# For example, here's several helpful packages to load\n",
    "\n",
    "import numpy as np # linear algebra\n",
    "import pandas as pd # data processing, CSV file I/O (e.g. pd.read_csv)\n",
    "\n",
    "# Input data files are available in the read-only \"../input/\" directory\n",
    "# For example, running this (by clicking run or pressing Shift+Enter) will list all files under the input directory\n",
    "\n",
    "import os\n",
    "for dirname, _, filenames in os.walk('/kaggle/input'):\n",
    "    for filename in filenames:\n",
    "        print(os.path.join(dirname, filename))\n",
    "\n",
    "# You can write up to 20GB to the current directory (/kaggle/working/) that gets preserved as output when you create a version using \"Save & Run All\" \n",
    "# You can also write temporary files to /kaggle/temp/, but they won't be saved outside of the current session"
   ]
  },
  {
   "cell_type": "code",
   "execution_count": 2,
   "id": "f37e5705",
   "metadata": {
    "execution": {
     "iopub.execute_input": "2021-09-25T17:50:34.708871Z",
     "iopub.status.busy": "2021-09-25T17:50:34.708215Z",
     "iopub.status.idle": "2021-09-25T17:50:34.974304Z",
     "shell.execute_reply": "2021-09-25T17:50:34.973731Z",
     "shell.execute_reply.started": "2021-09-25T11:50:10.138087Z"
    },
    "papermill": {
     "duration": 0.302715,
     "end_time": "2021-09-25T17:50:34.974453",
     "exception": false,
     "start_time": "2021-09-25T17:50:34.671738",
     "status": "completed"
    },
    "tags": []
   },
   "outputs": [
    {
     "data": {
      "text/html": [
       "<div>\n",
       "<style scoped>\n",
       "    .dataframe tbody tr th:only-of-type {\n",
       "        vertical-align: middle;\n",
       "    }\n",
       "\n",
       "    .dataframe tbody tr th {\n",
       "        vertical-align: top;\n",
       "    }\n",
       "\n",
       "    .dataframe thead th {\n",
       "        text-align: right;\n",
       "    }\n",
       "</style>\n",
       "<table border=\"1\" class=\"dataframe\">\n",
       "  <thead>\n",
       "    <tr style=\"text-align: right;\">\n",
       "      <th></th>\n",
       "      <th>Customer_ID</th>\n",
       "      <th>No_of_orders_placed</th>\n",
       "      <th>Category_of_customers</th>\n",
       "      <th>Maximum_bill</th>\n",
       "      <th>Minimum_bill</th>\n",
       "      <th>Last_order_placed_date</th>\n",
       "      <th>No_of_issues_raised</th>\n",
       "      <th>Customer_rating</th>\n",
       "      <th>Average_food_rating</th>\n",
       "      <th>Average_happiness_rating</th>\n",
       "      <th>Coupon_consumption_status</th>\n",
       "      <th>Coupons_offered</th>\n",
       "      <th>Premium_membership</th>\n",
       "      <th>Discount_percentage</th>\n",
       "    </tr>\n",
       "  </thead>\n",
       "  <tbody>\n",
       "    <tr>\n",
       "      <th>0</th>\n",
       "      <td>ID0xb02f</td>\n",
       "      <td>129.0</td>\n",
       "      <td>Active</td>\n",
       "      <td>2251.620000</td>\n",
       "      <td>261.26</td>\n",
       "      <td>04/02/2020 11:29 AM</td>\n",
       "      <td>129.0</td>\n",
       "      <td>4</td>\n",
       "      <td>4</td>\n",
       "      <td>4</td>\n",
       "      <td>129.0</td>\n",
       "      <td>215.0</td>\n",
       "      <td>No</td>\n",
       "      <td>34</td>\n",
       "    </tr>\n",
       "    <tr>\n",
       "      <th>1</th>\n",
       "      <td>ID0x8cff</td>\n",
       "      <td>NaN</td>\n",
       "      <td>Inactive</td>\n",
       "      <td>-450.457485</td>\n",
       "      <td>98.63</td>\n",
       "      <td>02/22/2016 04:08 AM</td>\n",
       "      <td>NaN</td>\n",
       "      <td>4</td>\n",
       "      <td>4</td>\n",
       "      <td>2</td>\n",
       "      <td>118.0</td>\n",
       "      <td>246.0</td>\n",
       "      <td>No</td>\n",
       "      <td>42</td>\n",
       "    </tr>\n",
       "    <tr>\n",
       "      <th>2</th>\n",
       "      <td>ID0xc812</td>\n",
       "      <td>100.0</td>\n",
       "      <td>Passive</td>\n",
       "      <td>1792.660000</td>\n",
       "      <td>144.00</td>\n",
       "      <td>08/23/2018 07:08 PM</td>\n",
       "      <td>100.0</td>\n",
       "      <td>4</td>\n",
       "      <td>4</td>\n",
       "      <td>5</td>\n",
       "      <td>66.0</td>\n",
       "      <td>121.0</td>\n",
       "      <td>No</td>\n",
       "      <td>31</td>\n",
       "    </tr>\n",
       "    <tr>\n",
       "      <th>3</th>\n",
       "      <td>ID0xedcd</td>\n",
       "      <td>87.0</td>\n",
       "      <td>Active</td>\n",
       "      <td>2260.730000</td>\n",
       "      <td>192.00</td>\n",
       "      <td>02/03/2020 06:31 AM</td>\n",
       "      <td>87.0</td>\n",
       "      <td>4</td>\n",
       "      <td>4</td>\n",
       "      <td>3</td>\n",
       "      <td>59.0</td>\n",
       "      <td>118.0</td>\n",
       "      <td>No</td>\n",
       "      <td>19</td>\n",
       "    </tr>\n",
       "    <tr>\n",
       "      <th>4</th>\n",
       "      <td>ID0x93c3</td>\n",
       "      <td>40.0</td>\n",
       "      <td>Passive</td>\n",
       "      <td>2083.890000</td>\n",
       "      <td>229.13</td>\n",
       "      <td>06/26/2019 01:30 PM</td>\n",
       "      <td>40.0</td>\n",
       "      <td>4</td>\n",
       "      <td>5</td>\n",
       "      <td>2</td>\n",
       "      <td>40.0</td>\n",
       "      <td>50.0</td>\n",
       "      <td>No</td>\n",
       "      <td>21</td>\n",
       "    </tr>\n",
       "  </tbody>\n",
       "</table>\n",
       "</div>"
      ],
      "text/plain": [
       "  Customer_ID  No_of_orders_placed Category_of_customers  Maximum_bill  \\\n",
       "0    ID0xb02f                129.0                Active   2251.620000   \n",
       "1    ID0x8cff                  NaN              Inactive   -450.457485   \n",
       "2    ID0xc812                100.0               Passive   1792.660000   \n",
       "3    ID0xedcd                 87.0                Active   2260.730000   \n",
       "4    ID0x93c3                 40.0               Passive   2083.890000   \n",
       "\n",
       "   Minimum_bill Last_order_placed_date  No_of_issues_raised  Customer_rating  \\\n",
       "0        261.26    04/02/2020 11:29 AM                129.0                4   \n",
       "1         98.63    02/22/2016 04:08 AM                  NaN                4   \n",
       "2        144.00    08/23/2018 07:08 PM                100.0                4   \n",
       "3        192.00    02/03/2020 06:31 AM                 87.0                4   \n",
       "4        229.13    06/26/2019 01:30 PM                 40.0                4   \n",
       "\n",
       "   Average_food_rating  Average_happiness_rating  Coupon_consumption_status  \\\n",
       "0                    4                         4                      129.0   \n",
       "1                    4                         2                      118.0   \n",
       "2                    4                         5                       66.0   \n",
       "3                    4                         3                       59.0   \n",
       "4                    5                         2                       40.0   \n",
       "\n",
       "   Coupons_offered Premium_membership  Discount_percentage  \n",
       "0            215.0                 No                   34  \n",
       "1            246.0                 No                   42  \n",
       "2            121.0                 No                   31  \n",
       "3            118.0                 No                   19  \n",
       "4             50.0                 No                   21  "
      ]
     },
     "execution_count": 2,
     "metadata": {},
     "output_type": "execute_result"
    }
   ],
   "source": [
    "#Reading Data\n",
    "\n",
    "import pandas as pd\n",
    "import numpy as np\n",
    "\n",
    "train_data = pd.read_csv(\"../input/beginner-regression/train.csv\")\n",
    "train_data.head()"
   ]
  },
  {
   "cell_type": "code",
   "execution_count": 3,
   "id": "6634580f",
   "metadata": {
    "execution": {
     "iopub.execute_input": "2021-09-25T17:50:35.050367Z",
     "iopub.status.busy": "2021-09-25T17:50:35.049410Z",
     "iopub.status.idle": "2021-09-25T17:50:35.096757Z",
     "shell.execute_reply": "2021-09-25T17:50:35.096216Z",
     "shell.execute_reply.started": "2021-09-25T11:50:10.323717Z"
    },
    "papermill": {
     "duration": 0.085757,
     "end_time": "2021-09-25T17:50:35.096903",
     "exception": false,
     "start_time": "2021-09-25T17:50:35.011146",
     "status": "completed"
    },
    "tags": []
   },
   "outputs": [
    {
     "name": "stdout",
     "output_type": "stream",
     "text": [
      "<class 'pandas.core.frame.DataFrame'>\n",
      "RangeIndex: 53802 entries, 0 to 53801\n",
      "Data columns (total 14 columns):\n",
      " #   Column                     Non-Null Count  Dtype  \n",
      "---  ------                     --------------  -----  \n",
      " 0   Customer_ID                53802 non-null  object \n",
      " 1   No_of_orders_placed        52227 non-null  float64\n",
      " 2   Category_of_customers      53802 non-null  object \n",
      " 3   Maximum_bill               53802 non-null  float64\n",
      " 4   Minimum_bill               53802 non-null  float64\n",
      " 5   Last_order_placed_date     53802 non-null  object \n",
      " 6   No_of_issues_raised        52227 non-null  float64\n",
      " 7   Customer_rating            53802 non-null  int64  \n",
      " 8   Average_food_rating        53802 non-null  int64  \n",
      " 9   Average_happiness_rating   53802 non-null  int64  \n",
      " 10  Coupon_consumption_status  52766 non-null  float64\n",
      " 11  Coupons_offered            52233 non-null  float64\n",
      " 12  Premium_membership         53802 non-null  object \n",
      " 13  Discount_percentage        53802 non-null  int64  \n",
      "dtypes: float64(6), int64(4), object(4)\n",
      "memory usage: 5.7+ MB\n"
     ]
    }
   ],
   "source": [
    "#Insights\n",
    "\n",
    "# train_data.describe()\n",
    "train_data.info()"
   ]
  },
  {
   "cell_type": "code",
   "execution_count": 4,
   "id": "37e4d19d",
   "metadata": {
    "execution": {
     "iopub.execute_input": "2021-09-25T17:50:35.170522Z",
     "iopub.status.busy": "2021-09-25T17:50:35.169871Z",
     "iopub.status.idle": "2021-09-25T17:50:35.229061Z",
     "shell.execute_reply": "2021-09-25T17:50:35.228559Z",
     "shell.execute_reply.started": "2021-09-25T11:50:10.361811Z"
    },
    "papermill": {
     "duration": 0.097425,
     "end_time": "2021-09-25T17:50:35.229205",
     "exception": false,
     "start_time": "2021-09-25T17:50:35.131780",
     "status": "completed"
    },
    "tags": []
   },
   "outputs": [
    {
     "data": {
      "text/html": [
       "<div>\n",
       "<style scoped>\n",
       "    .dataframe tbody tr th:only-of-type {\n",
       "        vertical-align: middle;\n",
       "    }\n",
       "\n",
       "    .dataframe tbody tr th {\n",
       "        vertical-align: top;\n",
       "    }\n",
       "\n",
       "    .dataframe thead th {\n",
       "        text-align: right;\n",
       "    }\n",
       "</style>\n",
       "<table border=\"1\" class=\"dataframe\">\n",
       "  <thead>\n",
       "    <tr style=\"text-align: right;\">\n",
       "      <th></th>\n",
       "      <th>No_of_orders_placed</th>\n",
       "      <th>Maximum_bill</th>\n",
       "      <th>Minimum_bill</th>\n",
       "      <th>No_of_issues_raised</th>\n",
       "      <th>Customer_rating</th>\n",
       "      <th>Average_food_rating</th>\n",
       "      <th>Average_happiness_rating</th>\n",
       "      <th>Coupon_consumption_status</th>\n",
       "      <th>Coupons_offered</th>\n",
       "      <th>Discount_percentage</th>\n",
       "    </tr>\n",
       "  </thead>\n",
       "  <tbody>\n",
       "    <tr>\n",
       "      <th>count</th>\n",
       "      <td>52227.000000</td>\n",
       "      <td>53802.000000</td>\n",
       "      <td>53802.000000</td>\n",
       "      <td>52227.000000</td>\n",
       "      <td>53802.000000</td>\n",
       "      <td>53802.000000</td>\n",
       "      <td>53802.000000</td>\n",
       "      <td>52766.000000</td>\n",
       "      <td>52233.000000</td>\n",
       "      <td>53802.000000</td>\n",
       "    </tr>\n",
       "    <tr>\n",
       "      <th>mean</th>\n",
       "      <td>127.425717</td>\n",
       "      <td>1949.654984</td>\n",
       "      <td>197.730306</td>\n",
       "      <td>127.425717</td>\n",
       "      <td>3.873573</td>\n",
       "      <td>3.695476</td>\n",
       "      <td>3.682447</td>\n",
       "      <td>74.673919</td>\n",
       "      <td>184.338062</td>\n",
       "      <td>36.366585</td>\n",
       "    </tr>\n",
       "    <tr>\n",
       "      <th>std</th>\n",
       "      <td>92.353764</td>\n",
       "      <td>1164.927983</td>\n",
       "      <td>82.428997</td>\n",
       "      <td>92.353764</td>\n",
       "      <td>0.641525</td>\n",
       "      <td>0.842041</td>\n",
       "      <td>0.848187</td>\n",
       "      <td>42.240441</td>\n",
       "      <td>97.585717</td>\n",
       "      <td>9.685505</td>\n",
       "    </tr>\n",
       "    <tr>\n",
       "      <th>min</th>\n",
       "      <td>-477.349415</td>\n",
       "      <td>-5623.061588</td>\n",
       "      <td>-304.917730</td>\n",
       "      <td>-477.349415</td>\n",
       "      <td>2.000000</td>\n",
       "      <td>1.000000</td>\n",
       "      <td>2.000000</td>\n",
       "      <td>5.000000</td>\n",
       "      <td>15.000000</td>\n",
       "      <td>10.000000</td>\n",
       "    </tr>\n",
       "    <tr>\n",
       "      <th>25%</th>\n",
       "      <td>62.000000</td>\n",
       "      <td>1114.447500</td>\n",
       "      <td>135.290000</td>\n",
       "      <td>62.000000</td>\n",
       "      <td>4.000000</td>\n",
       "      <td>3.000000</td>\n",
       "      <td>3.000000</td>\n",
       "      <td>39.000000</td>\n",
       "      <td>88.000000</td>\n",
       "      <td>30.000000</td>\n",
       "    </tr>\n",
       "    <tr>\n",
       "      <th>50%</th>\n",
       "      <td>127.000000</td>\n",
       "      <td>1912.030000</td>\n",
       "      <td>193.940000</td>\n",
       "      <td>127.000000</td>\n",
       "      <td>4.000000</td>\n",
       "      <td>4.000000</td>\n",
       "      <td>4.000000</td>\n",
       "      <td>69.000000</td>\n",
       "      <td>205.000000</td>\n",
       "      <td>36.000000</td>\n",
       "    </tr>\n",
       "    <tr>\n",
       "      <th>75%</th>\n",
       "      <td>193.000000</td>\n",
       "      <td>2723.627500</td>\n",
       "      <td>255.267500</td>\n",
       "      <td>193.000000</td>\n",
       "      <td>4.000000</td>\n",
       "      <td>4.000000</td>\n",
       "      <td>4.000000</td>\n",
       "      <td>106.000000</td>\n",
       "      <td>268.000000</td>\n",
       "      <td>44.000000</td>\n",
       "    </tr>\n",
       "    <tr>\n",
       "      <th>max</th>\n",
       "      <td>724.669533</td>\n",
       "      <td>10147.345902</td>\n",
       "      <td>821.409409</td>\n",
       "      <td>724.669533</td>\n",
       "      <td>5.000000</td>\n",
       "      <td>5.000000</td>\n",
       "      <td>5.000000</td>\n",
       "      <td>170.000000</td>\n",
       "      <td>370.000000</td>\n",
       "      <td>59.000000</td>\n",
       "    </tr>\n",
       "  </tbody>\n",
       "</table>\n",
       "</div>"
      ],
      "text/plain": [
       "       No_of_orders_placed  Maximum_bill  Minimum_bill  No_of_issues_raised  \\\n",
       "count         52227.000000  53802.000000  53802.000000         52227.000000   \n",
       "mean            127.425717   1949.654984    197.730306           127.425717   \n",
       "std              92.353764   1164.927983     82.428997            92.353764   \n",
       "min            -477.349415  -5623.061588   -304.917730          -477.349415   \n",
       "25%              62.000000   1114.447500    135.290000            62.000000   \n",
       "50%             127.000000   1912.030000    193.940000           127.000000   \n",
       "75%             193.000000   2723.627500    255.267500           193.000000   \n",
       "max             724.669533  10147.345902    821.409409           724.669533   \n",
       "\n",
       "       Customer_rating  Average_food_rating  Average_happiness_rating  \\\n",
       "count     53802.000000         53802.000000              53802.000000   \n",
       "mean          3.873573             3.695476                  3.682447   \n",
       "std           0.641525             0.842041                  0.848187   \n",
       "min           2.000000             1.000000                  2.000000   \n",
       "25%           4.000000             3.000000                  3.000000   \n",
       "50%           4.000000             4.000000                  4.000000   \n",
       "75%           4.000000             4.000000                  4.000000   \n",
       "max           5.000000             5.000000                  5.000000   \n",
       "\n",
       "       Coupon_consumption_status  Coupons_offered  Discount_percentage  \n",
       "count               52766.000000     52233.000000         53802.000000  \n",
       "mean                   74.673919       184.338062            36.366585  \n",
       "std                    42.240441        97.585717             9.685505  \n",
       "min                     5.000000        15.000000            10.000000  \n",
       "25%                    39.000000        88.000000            30.000000  \n",
       "50%                    69.000000       205.000000            36.000000  \n",
       "75%                   106.000000       268.000000            44.000000  \n",
       "max                   170.000000       370.000000            59.000000  "
      ]
     },
     "execution_count": 4,
     "metadata": {},
     "output_type": "execute_result"
    }
   ],
   "source": [
    "train_data.describe()"
   ]
  },
  {
   "cell_type": "code",
   "execution_count": 5,
   "id": "eacde90c",
   "metadata": {
    "execution": {
     "iopub.execute_input": "2021-09-25T17:50:35.316276Z",
     "iopub.status.busy": "2021-09-25T17:50:35.315553Z",
     "iopub.status.idle": "2021-09-25T17:50:35.352763Z",
     "shell.execute_reply": "2021-09-25T17:50:35.352136Z",
     "shell.execute_reply.started": "2021-09-25T11:50:10.417179Z"
    },
    "papermill": {
     "duration": 0.084778,
     "end_time": "2021-09-25T17:50:35.352914",
     "exception": false,
     "start_time": "2021-09-25T17:50:35.268136",
     "status": "completed"
    },
    "tags": []
   },
   "outputs": [
    {
     "data": {
      "text/html": [
       "<div>\n",
       "<style scoped>\n",
       "    .dataframe tbody tr th:only-of-type {\n",
       "        vertical-align: middle;\n",
       "    }\n",
       "\n",
       "    .dataframe tbody tr th {\n",
       "        vertical-align: top;\n",
       "    }\n",
       "\n",
       "    .dataframe thead th {\n",
       "        text-align: right;\n",
       "    }\n",
       "</style>\n",
       "<table border=\"1\" class=\"dataframe\">\n",
       "  <thead>\n",
       "    <tr style=\"text-align: right;\">\n",
       "      <th></th>\n",
       "      <th>No_of_orders_placed</th>\n",
       "      <th>Maximum_bill</th>\n",
       "      <th>Minimum_bill</th>\n",
       "      <th>No_of_issues_raised</th>\n",
       "      <th>Customer_rating</th>\n",
       "      <th>Average_food_rating</th>\n",
       "      <th>Average_happiness_rating</th>\n",
       "      <th>Coupon_consumption_status</th>\n",
       "      <th>Coupons_offered</th>\n",
       "      <th>Discount_percentage</th>\n",
       "    </tr>\n",
       "  </thead>\n",
       "  <tbody>\n",
       "    <tr>\n",
       "      <th>No_of_orders_placed</th>\n",
       "      <td>1.000000</td>\n",
       "      <td>0.060497</td>\n",
       "      <td>0.180897</td>\n",
       "      <td>1.000000</td>\n",
       "      <td>0.000868</td>\n",
       "      <td>0.001824</td>\n",
       "      <td>-0.006820</td>\n",
       "      <td>0.433715</td>\n",
       "      <td>0.741370</td>\n",
       "      <td>0.385199</td>\n",
       "    </tr>\n",
       "    <tr>\n",
       "      <th>Maximum_bill</th>\n",
       "      <td>0.060497</td>\n",
       "      <td>1.000000</td>\n",
       "      <td>0.017240</td>\n",
       "      <td>0.060497</td>\n",
       "      <td>0.001732</td>\n",
       "      <td>-0.000665</td>\n",
       "      <td>-0.000890</td>\n",
       "      <td>0.034389</td>\n",
       "      <td>0.100561</td>\n",
       "      <td>0.085619</td>\n",
       "    </tr>\n",
       "    <tr>\n",
       "      <th>Minimum_bill</th>\n",
       "      <td>0.180897</td>\n",
       "      <td>0.017240</td>\n",
       "      <td>1.000000</td>\n",
       "      <td>0.180897</td>\n",
       "      <td>-0.002583</td>\n",
       "      <td>0.000265</td>\n",
       "      <td>-0.001820</td>\n",
       "      <td>0.161330</td>\n",
       "      <td>0.244759</td>\n",
       "      <td>0.150425</td>\n",
       "    </tr>\n",
       "    <tr>\n",
       "      <th>No_of_issues_raised</th>\n",
       "      <td>1.000000</td>\n",
       "      <td>0.060497</td>\n",
       "      <td>0.180897</td>\n",
       "      <td>1.000000</td>\n",
       "      <td>0.000868</td>\n",
       "      <td>0.001824</td>\n",
       "      <td>-0.006820</td>\n",
       "      <td>0.433715</td>\n",
       "      <td>0.741370</td>\n",
       "      <td>0.385199</td>\n",
       "    </tr>\n",
       "    <tr>\n",
       "      <th>Customer_rating</th>\n",
       "      <td>0.000868</td>\n",
       "      <td>0.001732</td>\n",
       "      <td>-0.002583</td>\n",
       "      <td>0.000868</td>\n",
       "      <td>1.000000</td>\n",
       "      <td>-0.003557</td>\n",
       "      <td>-0.001230</td>\n",
       "      <td>0.008624</td>\n",
       "      <td>-0.000417</td>\n",
       "      <td>0.044196</td>\n",
       "    </tr>\n",
       "    <tr>\n",
       "      <th>Average_food_rating</th>\n",
       "      <td>0.001824</td>\n",
       "      <td>-0.000665</td>\n",
       "      <td>0.000265</td>\n",
       "      <td>0.001824</td>\n",
       "      <td>-0.003557</td>\n",
       "      <td>1.000000</td>\n",
       "      <td>0.001177</td>\n",
       "      <td>0.002876</td>\n",
       "      <td>-0.001379</td>\n",
       "      <td>-0.007368</td>\n",
       "    </tr>\n",
       "    <tr>\n",
       "      <th>Average_happiness_rating</th>\n",
       "      <td>-0.006820</td>\n",
       "      <td>-0.000890</td>\n",
       "      <td>-0.001820</td>\n",
       "      <td>-0.006820</td>\n",
       "      <td>-0.001230</td>\n",
       "      <td>0.001177</td>\n",
       "      <td>1.000000</td>\n",
       "      <td>-0.004942</td>\n",
       "      <td>-0.002922</td>\n",
       "      <td>0.031379</td>\n",
       "    </tr>\n",
       "    <tr>\n",
       "      <th>Coupon_consumption_status</th>\n",
       "      <td>0.433715</td>\n",
       "      <td>0.034389</td>\n",
       "      <td>0.161330</td>\n",
       "      <td>0.433715</td>\n",
       "      <td>0.008624</td>\n",
       "      <td>0.002876</td>\n",
       "      <td>-0.004942</td>\n",
       "      <td>1.000000</td>\n",
       "      <td>0.563322</td>\n",
       "      <td>0.310504</td>\n",
       "    </tr>\n",
       "    <tr>\n",
       "      <th>Coupons_offered</th>\n",
       "      <td>0.741370</td>\n",
       "      <td>0.100561</td>\n",
       "      <td>0.244759</td>\n",
       "      <td>0.741370</td>\n",
       "      <td>-0.000417</td>\n",
       "      <td>-0.001379</td>\n",
       "      <td>-0.002922</td>\n",
       "      <td>0.563322</td>\n",
       "      <td>1.000000</td>\n",
       "      <td>0.541246</td>\n",
       "    </tr>\n",
       "    <tr>\n",
       "      <th>Discount_percentage</th>\n",
       "      <td>0.385199</td>\n",
       "      <td>0.085619</td>\n",
       "      <td>0.150425</td>\n",
       "      <td>0.385199</td>\n",
       "      <td>0.044196</td>\n",
       "      <td>-0.007368</td>\n",
       "      <td>0.031379</td>\n",
       "      <td>0.310504</td>\n",
       "      <td>0.541246</td>\n",
       "      <td>1.000000</td>\n",
       "    </tr>\n",
       "  </tbody>\n",
       "</table>\n",
       "</div>"
      ],
      "text/plain": [
       "                           No_of_orders_placed  Maximum_bill  Minimum_bill  \\\n",
       "No_of_orders_placed                   1.000000      0.060497      0.180897   \n",
       "Maximum_bill                          0.060497      1.000000      0.017240   \n",
       "Minimum_bill                          0.180897      0.017240      1.000000   \n",
       "No_of_issues_raised                   1.000000      0.060497      0.180897   \n",
       "Customer_rating                       0.000868      0.001732     -0.002583   \n",
       "Average_food_rating                   0.001824     -0.000665      0.000265   \n",
       "Average_happiness_rating             -0.006820     -0.000890     -0.001820   \n",
       "Coupon_consumption_status             0.433715      0.034389      0.161330   \n",
       "Coupons_offered                       0.741370      0.100561      0.244759   \n",
       "Discount_percentage                   0.385199      0.085619      0.150425   \n",
       "\n",
       "                           No_of_issues_raised  Customer_rating  \\\n",
       "No_of_orders_placed                   1.000000         0.000868   \n",
       "Maximum_bill                          0.060497         0.001732   \n",
       "Minimum_bill                          0.180897        -0.002583   \n",
       "No_of_issues_raised                   1.000000         0.000868   \n",
       "Customer_rating                       0.000868         1.000000   \n",
       "Average_food_rating                   0.001824        -0.003557   \n",
       "Average_happiness_rating             -0.006820        -0.001230   \n",
       "Coupon_consumption_status             0.433715         0.008624   \n",
       "Coupons_offered                       0.741370        -0.000417   \n",
       "Discount_percentage                   0.385199         0.044196   \n",
       "\n",
       "                           Average_food_rating  Average_happiness_rating  \\\n",
       "No_of_orders_placed                   0.001824                 -0.006820   \n",
       "Maximum_bill                         -0.000665                 -0.000890   \n",
       "Minimum_bill                          0.000265                 -0.001820   \n",
       "No_of_issues_raised                   0.001824                 -0.006820   \n",
       "Customer_rating                      -0.003557                 -0.001230   \n",
       "Average_food_rating                   1.000000                  0.001177   \n",
       "Average_happiness_rating              0.001177                  1.000000   \n",
       "Coupon_consumption_status             0.002876                 -0.004942   \n",
       "Coupons_offered                      -0.001379                 -0.002922   \n",
       "Discount_percentage                  -0.007368                  0.031379   \n",
       "\n",
       "                           Coupon_consumption_status  Coupons_offered  \\\n",
       "No_of_orders_placed                         0.433715         0.741370   \n",
       "Maximum_bill                                0.034389         0.100561   \n",
       "Minimum_bill                                0.161330         0.244759   \n",
       "No_of_issues_raised                         0.433715         0.741370   \n",
       "Customer_rating                             0.008624        -0.000417   \n",
       "Average_food_rating                         0.002876        -0.001379   \n",
       "Average_happiness_rating                   -0.004942        -0.002922   \n",
       "Coupon_consumption_status                   1.000000         0.563322   \n",
       "Coupons_offered                             0.563322         1.000000   \n",
       "Discount_percentage                         0.310504         0.541246   \n",
       "\n",
       "                           Discount_percentage  \n",
       "No_of_orders_placed                   0.385199  \n",
       "Maximum_bill                          0.085619  \n",
       "Minimum_bill                          0.150425  \n",
       "No_of_issues_raised                   0.385199  \n",
       "Customer_rating                       0.044196  \n",
       "Average_food_rating                  -0.007368  \n",
       "Average_happiness_rating              0.031379  \n",
       "Coupon_consumption_status             0.310504  \n",
       "Coupons_offered                       0.541246  \n",
       "Discount_percentage                   1.000000  "
      ]
     },
     "execution_count": 5,
     "metadata": {},
     "output_type": "execute_result"
    }
   ],
   "source": [
    "train_data.corr()"
   ]
  },
  {
   "cell_type": "code",
   "execution_count": 6,
   "id": "33ac9e9a",
   "metadata": {
    "execution": {
     "iopub.execute_input": "2021-09-25T17:50:35.432685Z",
     "iopub.status.busy": "2021-09-25T17:50:35.431757Z",
     "iopub.status.idle": "2021-09-25T17:50:35.434909Z",
     "shell.execute_reply": "2021-09-25T17:50:35.434389Z",
     "shell.execute_reply.started": "2021-09-25T11:50:10.455224Z"
    },
    "papermill": {
     "duration": 0.043482,
     "end_time": "2021-09-25T17:50:35.435048",
     "exception": false,
     "start_time": "2021-09-25T17:50:35.391566",
     "status": "completed"
    },
    "tags": []
   },
   "outputs": [],
   "source": [
    "# z0=0\n",
    "# z2=0\n",
    "# z3=0\n",
    "# z=0\n",
    "# for i in range(len(train_data)):\n",
    "#     if train_data[\"No_of_orders_placed\"].iloc[i]<0:\n",
    "#         z0+=1\n",
    "#     if train_data[\"Maximum_bill\"].iloc[i]<0:\n",
    "#         z2+=1\n",
    "#     if train_data[\"Minimum_bill\"].iloc[i]<0:\n",
    "#         z3+=1\n",
    "#     if abs(train_data[\"Minimum_bill\"].iloc[i])>abs(train_data[\"Maximum_bill\"].iloc[i]):\n",
    "#         z+=1\n",
    "\n",
    "# print(z0,z2,z3,z)\n",
    "\n",
    "# # print(train_data[\"Coupon_consumption_status\"].iloc[0])"
   ]
  },
  {
   "cell_type": "code",
   "execution_count": 7,
   "id": "ecd1ed22",
   "metadata": {
    "execution": {
     "iopub.execute_input": "2021-09-25T17:50:35.520243Z",
     "iopub.status.busy": "2021-09-25T17:50:35.515512Z",
     "iopub.status.idle": "2021-09-25T17:50:43.628699Z",
     "shell.execute_reply": "2021-09-25T17:50:43.627886Z",
     "shell.execute_reply.started": "2021-09-25T11:50:10.461558Z"
    },
    "papermill": {
     "duration": 8.157947,
     "end_time": "2021-09-25T17:50:43.628894",
     "exception": false,
     "start_time": "2021-09-25T17:50:35.470947",
     "status": "completed"
    },
    "tags": []
   },
   "outputs": [
    {
     "name": "stderr",
     "output_type": "stream",
     "text": [
      "/opt/conda/lib/python3.7/site-packages/pandas/core/indexing.py:1732: SettingWithCopyWarning: \n",
      "A value is trying to be set on a copy of a slice from a DataFrame\n",
      "\n",
      "See the caveats in the documentation: https://pandas.pydata.org/pandas-docs/stable/user_guide/indexing.html#returning-a-view-versus-a-copy\n",
      "  self._setitem_single_block(indexer, value, name)\n"
     ]
    },
    {
     "name": "stdout",
     "output_type": "stream",
     "text": [
      "<class 'pandas.core.frame.DataFrame'>\n",
      "RangeIndex: 53802 entries, 0 to 53801\n",
      "Data columns (total 15 columns):\n",
      " #   Column                      Non-Null Count  Dtype  \n",
      "---  ------                      --------------  -----  \n",
      " 0   Customer_ID                 53802 non-null  object \n",
      " 1   No_of_orders_placed         52227 non-null  float64\n",
      " 2   Category_of_customers       53802 non-null  object \n",
      " 3   Maximum_bill                53802 non-null  float64\n",
      " 4   Minimum_bill                53802 non-null  float64\n",
      " 5   Last_order_placed_date      53802 non-null  object \n",
      " 6   No_of_issues_raised         52227 non-null  float64\n",
      " 7   Customer_rating             53802 non-null  int64  \n",
      " 8   Average_food_rating         53802 non-null  int64  \n",
      " 9   Average_happiness_rating    53802 non-null  int64  \n",
      " 10  Coupon_consumption_status   52766 non-null  float64\n",
      " 11  Coupons_offered             52233 non-null  float64\n",
      " 12  Premium_membership          53802 non-null  object \n",
      " 13  Discount_percentage         53802 non-null  int64  \n",
      " 14  Coupon_consumption_percent  53802 non-null  float64\n",
      "dtypes: float64(7), int64(4), object(4)\n",
      "memory usage: 6.2+ MB\n"
     ]
    }
   ],
   "source": [
    "#combining coupon offered and consumed as a single feature depicting percentage\n",
    "\n",
    "# train_data[\"Coupon_consumption_status\"]=train_data[\"Coupon_consumption_status\"]/train_data[\"Coupons_offered\"]\n",
    "# train_data[\"Coupon_consumption_status\"].head()\n",
    "\n",
    "train_data[\"Coupon_consumption_percent\"]=[0]*53802\n",
    "\n",
    "for i in range(len(train_data)):\n",
    "    x=train_data[\"Coupon_consumption_status\"].iloc[i]\n",
    "    y=train_data[\"Coupons_offered\"].iloc[i]\n",
    "    \n",
    "    if not pd.isna(train_data[\"Coupons_offered\"].iloc[i]):\n",
    "        if pd.isna(train_data[\"Coupon_consumption_status\"].iloc[i]):\n",
    "            train_data[\"Coupon_consumption_percent\"].iloc[i]=0\n",
    "        else:\n",
    "            train_data[\"Coupon_consumption_percent\"].iloc[i]=x/y        \n",
    "    else:\n",
    "        if pd.isna(train_data[\"Coupon_consumption_status\"].iloc[i]):\n",
    "            train_data[\"Coupon_consumption_percent\"].iloc[i]=0\n",
    "        else:\n",
    "            train_data[\"Coupon_consumption_percent\"].iloc[i]=0.5\n",
    "            \n",
    "train_data.info()\n",
    "\n",
    "\n"
   ]
  },
  {
   "cell_type": "code",
   "execution_count": 8,
   "id": "2d981092",
   "metadata": {
    "execution": {
     "iopub.execute_input": "2021-09-25T17:50:43.711531Z",
     "iopub.status.busy": "2021-09-25T17:50:43.710257Z",
     "iopub.status.idle": "2021-09-25T17:50:43.745953Z",
     "shell.execute_reply": "2021-09-25T17:50:43.746527Z",
     "shell.execute_reply.started": "2021-09-25T11:50:18.547635Z"
    },
    "papermill": {
     "duration": 0.080275,
     "end_time": "2021-09-25T17:50:43.746733",
     "exception": false,
     "start_time": "2021-09-25T17:50:43.666458",
     "status": "completed"
    },
    "tags": []
   },
   "outputs": [
    {
     "name": "stdout",
     "output_type": "stream",
     "text": [
      "<class 'pandas.core.frame.DataFrame'>\n",
      "RangeIndex: 53802 entries, 0 to 53801\n",
      "Data columns (total 11 columns):\n",
      " #   Column                      Non-Null Count  Dtype  \n",
      "---  ------                      --------------  -----  \n",
      " 0   No_of_orders_placed         53802 non-null  float64\n",
      " 1   Category_of_customers       53802 non-null  object \n",
      " 2   Maximum_bill                53802 non-null  float64\n",
      " 3   Minimum_bill                53802 non-null  float64\n",
      " 4   Last_order_placed_date      53802 non-null  object \n",
      " 5   Customer_rating             53802 non-null  int64  \n",
      " 6   Average_food_rating         53802 non-null  int64  \n",
      " 7   Average_happiness_rating    53802 non-null  int64  \n",
      " 8   Premium_membership          53802 non-null  object \n",
      " 9   Discount_percentage         53802 non-null  int64  \n",
      " 10  Coupon_consumption_percent  53802 non-null  float64\n",
      "dtypes: float64(4), int64(4), object(3)\n",
      "memory usage: 4.5+ MB\n"
     ]
    }
   ],
   "source": [
    "#Droping Customer_id,\"Coupon_consumption_status\",\"Coupons_offered\"\n",
    "#Dropping No_of_issues_raised since it is perfectly correlated to No_of_orders_placed\n",
    "\n",
    "train_data.drop(columns=[\"Customer_ID\",\"Coupon_consumption_status\",\"Coupons_offered\",\"No_of_issues_raised\"],inplace=True)\n",
    "\n",
    "#Filling Null values\n",
    "\n",
    "train_data[[\"No_of_orders_placed\"]]=train_data[[\"No_of_orders_placed\"]].fillna(value=0.0)\n",
    "train_data.info()\n",
    "\n"
   ]
  },
  {
   "cell_type": "code",
   "execution_count": 9,
   "id": "096011d3",
   "metadata": {
    "execution": {
     "iopub.execute_input": "2021-09-25T17:50:43.847392Z",
     "iopub.status.busy": "2021-09-25T17:50:43.846628Z",
     "iopub.status.idle": "2021-09-25T17:51:14.718497Z",
     "shell.execute_reply": "2021-09-25T17:51:14.719108Z",
     "shell.execute_reply.started": "2021-09-25T11:50:18.587717Z"
    },
    "papermill": {
     "duration": 30.934374,
     "end_time": "2021-09-25T17:51:14.719322",
     "exception": false,
     "start_time": "2021-09-25T17:50:43.784948",
     "status": "completed"
    },
    "tags": []
   },
   "outputs": [
    {
     "data": {
      "text/html": [
       "<div>\n",
       "<style scoped>\n",
       "    .dataframe tbody tr th:only-of-type {\n",
       "        vertical-align: middle;\n",
       "    }\n",
       "\n",
       "    .dataframe tbody tr th {\n",
       "        vertical-align: top;\n",
       "    }\n",
       "\n",
       "    .dataframe thead th {\n",
       "        text-align: right;\n",
       "    }\n",
       "</style>\n",
       "<table border=\"1\" class=\"dataframe\">\n",
       "  <thead>\n",
       "    <tr style=\"text-align: right;\">\n",
       "      <th></th>\n",
       "      <th>No_of_orders_placed</th>\n",
       "      <th>Category_of_customers</th>\n",
       "      <th>Maximum_bill</th>\n",
       "      <th>Minimum_bill</th>\n",
       "      <th>Last_order_placed_date</th>\n",
       "      <th>Customer_rating</th>\n",
       "      <th>Average_food_rating</th>\n",
       "      <th>Average_happiness_rating</th>\n",
       "      <th>Premium_membership</th>\n",
       "      <th>Discount_percentage</th>\n",
       "      <th>Coupon_consumption_percent</th>\n",
       "    </tr>\n",
       "  </thead>\n",
       "  <tbody>\n",
       "    <tr>\n",
       "      <th>0</th>\n",
       "      <td>129.0</td>\n",
       "      <td>Active</td>\n",
       "      <td>2251.620000</td>\n",
       "      <td>261.26</td>\n",
       "      <td>540</td>\n",
       "      <td>4</td>\n",
       "      <td>4</td>\n",
       "      <td>4</td>\n",
       "      <td>No</td>\n",
       "      <td>34</td>\n",
       "      <td>0.600000</td>\n",
       "    </tr>\n",
       "    <tr>\n",
       "      <th>1</th>\n",
       "      <td>0.0</td>\n",
       "      <td>Inactive</td>\n",
       "      <td>-450.457485</td>\n",
       "      <td>98.63</td>\n",
       "      <td>2041</td>\n",
       "      <td>4</td>\n",
       "      <td>4</td>\n",
       "      <td>2</td>\n",
       "      <td>No</td>\n",
       "      <td>42</td>\n",
       "      <td>0.479675</td>\n",
       "    </tr>\n",
       "    <tr>\n",
       "      <th>2</th>\n",
       "      <td>100.0</td>\n",
       "      <td>Passive</td>\n",
       "      <td>1792.660000</td>\n",
       "      <td>144.00</td>\n",
       "      <td>1128</td>\n",
       "      <td>4</td>\n",
       "      <td>4</td>\n",
       "      <td>5</td>\n",
       "      <td>No</td>\n",
       "      <td>31</td>\n",
       "      <td>0.545455</td>\n",
       "    </tr>\n",
       "    <tr>\n",
       "      <th>3</th>\n",
       "      <td>87.0</td>\n",
       "      <td>Active</td>\n",
       "      <td>2260.730000</td>\n",
       "      <td>192.00</td>\n",
       "      <td>599</td>\n",
       "      <td>4</td>\n",
       "      <td>4</td>\n",
       "      <td>3</td>\n",
       "      <td>No</td>\n",
       "      <td>19</td>\n",
       "      <td>0.500000</td>\n",
       "    </tr>\n",
       "    <tr>\n",
       "      <th>4</th>\n",
       "      <td>40.0</td>\n",
       "      <td>Passive</td>\n",
       "      <td>2083.890000</td>\n",
       "      <td>229.13</td>\n",
       "      <td>821</td>\n",
       "      <td>4</td>\n",
       "      <td>5</td>\n",
       "      <td>2</td>\n",
       "      <td>No</td>\n",
       "      <td>21</td>\n",
       "      <td>0.800000</td>\n",
       "    </tr>\n",
       "  </tbody>\n",
       "</table>\n",
       "</div>"
      ],
      "text/plain": [
       "   No_of_orders_placed Category_of_customers  Maximum_bill  Minimum_bill  \\\n",
       "0                129.0                Active   2251.620000        261.26   \n",
       "1                  0.0              Inactive   -450.457485         98.63   \n",
       "2                100.0               Passive   1792.660000        144.00   \n",
       "3                 87.0                Active   2260.730000        192.00   \n",
       "4                 40.0               Passive   2083.890000        229.13   \n",
       "\n",
       "   Last_order_placed_date  Customer_rating  Average_food_rating  \\\n",
       "0                     540                4                    4   \n",
       "1                    2041                4                    4   \n",
       "2                    1128                4                    4   \n",
       "3                     599                4                    4   \n",
       "4                     821                4                    5   \n",
       "\n",
       "   Average_happiness_rating Premium_membership  Discount_percentage  \\\n",
       "0                         4                 No                   34   \n",
       "1                         2                 No                   42   \n",
       "2                         5                 No                   31   \n",
       "3                         3                 No                   19   \n",
       "4                         2                 No                   21   \n",
       "\n",
       "   Coupon_consumption_percent  \n",
       "0                    0.600000  \n",
       "1                    0.479675  \n",
       "2                    0.545455  \n",
       "3                    0.500000  \n",
       "4                    0.800000  "
      ]
     },
     "execution_count": 9,
     "metadata": {},
     "output_type": "execute_result"
    }
   ],
   "source": [
    "#converting last_order_date to days\n",
    "train_data[\"Last_order_placed_date\"]=pd.to_datetime(\"2021-09-25\")-pd.to_datetime(train_data[\"Last_order_placed_date\"])\n",
    "for i in range(len(train_data)):\n",
    "    train_data[\"Last_order_placed_date\"].iloc[i]=str(train_data[\"Last_order_placed_date\"].iloc[i]).split()[0]\n",
    "train_data[\"Last_order_placed_date\"]=pd.to_numeric(train_data[\"Last_order_placed_date\"])\n",
    "train_data.head()"
   ]
  },
  {
   "cell_type": "code",
   "execution_count": 10,
   "id": "0995f403",
   "metadata": {
    "execution": {
     "iopub.execute_input": "2021-09-25T17:51:14.799561Z",
     "iopub.status.busy": "2021-09-25T17:51:14.798899Z",
     "iopub.status.idle": "2021-09-25T17:51:14.843064Z",
     "shell.execute_reply": "2021-09-25T17:51:14.841320Z",
     "shell.execute_reply.started": "2021-09-25T11:56:50.334706Z"
    },
    "papermill": {
     "duration": 0.085305,
     "end_time": "2021-09-25T17:51:14.843303",
     "exception": false,
     "start_time": "2021-09-25T17:51:14.757998",
     "status": "completed"
    },
    "tags": []
   },
   "outputs": [
    {
     "data": {
      "text/html": [
       "<div>\n",
       "<style scoped>\n",
       "    .dataframe tbody tr th:only-of-type {\n",
       "        vertical-align: middle;\n",
       "    }\n",
       "\n",
       "    .dataframe tbody tr th {\n",
       "        vertical-align: top;\n",
       "    }\n",
       "\n",
       "    .dataframe thead th {\n",
       "        text-align: right;\n",
       "    }\n",
       "</style>\n",
       "<table border=\"1\" class=\"dataframe\">\n",
       "  <thead>\n",
       "    <tr style=\"text-align: right;\">\n",
       "      <th></th>\n",
       "      <th>No_of_orders_placed</th>\n",
       "      <th>Maximum_bill</th>\n",
       "      <th>Minimum_bill</th>\n",
       "      <th>Last_order_placed_date</th>\n",
       "      <th>Customer_rating</th>\n",
       "      <th>Average_food_rating</th>\n",
       "      <th>Average_happiness_rating</th>\n",
       "      <th>Discount_percentage</th>\n",
       "      <th>Coupon_consumption_percent</th>\n",
       "      <th>status_Active</th>\n",
       "      <th>status_Inactive</th>\n",
       "      <th>status_Passive</th>\n",
       "      <th>premium_No</th>\n",
       "      <th>premium_Yes</th>\n",
       "    </tr>\n",
       "  </thead>\n",
       "  <tbody>\n",
       "    <tr>\n",
       "      <th>0</th>\n",
       "      <td>129.0</td>\n",
       "      <td>2251.620000</td>\n",
       "      <td>261.26</td>\n",
       "      <td>540</td>\n",
       "      <td>4</td>\n",
       "      <td>4</td>\n",
       "      <td>4</td>\n",
       "      <td>34</td>\n",
       "      <td>0.600000</td>\n",
       "      <td>1</td>\n",
       "      <td>0</td>\n",
       "      <td>0</td>\n",
       "      <td>1</td>\n",
       "      <td>0</td>\n",
       "    </tr>\n",
       "    <tr>\n",
       "      <th>1</th>\n",
       "      <td>0.0</td>\n",
       "      <td>-450.457485</td>\n",
       "      <td>98.63</td>\n",
       "      <td>2041</td>\n",
       "      <td>4</td>\n",
       "      <td>4</td>\n",
       "      <td>2</td>\n",
       "      <td>42</td>\n",
       "      <td>0.479675</td>\n",
       "      <td>0</td>\n",
       "      <td>1</td>\n",
       "      <td>0</td>\n",
       "      <td>1</td>\n",
       "      <td>0</td>\n",
       "    </tr>\n",
       "    <tr>\n",
       "      <th>2</th>\n",
       "      <td>100.0</td>\n",
       "      <td>1792.660000</td>\n",
       "      <td>144.00</td>\n",
       "      <td>1128</td>\n",
       "      <td>4</td>\n",
       "      <td>4</td>\n",
       "      <td>5</td>\n",
       "      <td>31</td>\n",
       "      <td>0.545455</td>\n",
       "      <td>0</td>\n",
       "      <td>0</td>\n",
       "      <td>1</td>\n",
       "      <td>1</td>\n",
       "      <td>0</td>\n",
       "    </tr>\n",
       "    <tr>\n",
       "      <th>3</th>\n",
       "      <td>87.0</td>\n",
       "      <td>2260.730000</td>\n",
       "      <td>192.00</td>\n",
       "      <td>599</td>\n",
       "      <td>4</td>\n",
       "      <td>4</td>\n",
       "      <td>3</td>\n",
       "      <td>19</td>\n",
       "      <td>0.500000</td>\n",
       "      <td>1</td>\n",
       "      <td>0</td>\n",
       "      <td>0</td>\n",
       "      <td>1</td>\n",
       "      <td>0</td>\n",
       "    </tr>\n",
       "    <tr>\n",
       "      <th>4</th>\n",
       "      <td>40.0</td>\n",
       "      <td>2083.890000</td>\n",
       "      <td>229.13</td>\n",
       "      <td>821</td>\n",
       "      <td>4</td>\n",
       "      <td>5</td>\n",
       "      <td>2</td>\n",
       "      <td>21</td>\n",
       "      <td>0.800000</td>\n",
       "      <td>0</td>\n",
       "      <td>0</td>\n",
       "      <td>1</td>\n",
       "      <td>1</td>\n",
       "      <td>0</td>\n",
       "    </tr>\n",
       "  </tbody>\n",
       "</table>\n",
       "</div>"
      ],
      "text/plain": [
       "   No_of_orders_placed  Maximum_bill  Minimum_bill  Last_order_placed_date  \\\n",
       "0                129.0   2251.620000        261.26                     540   \n",
       "1                  0.0   -450.457485         98.63                    2041   \n",
       "2                100.0   1792.660000        144.00                    1128   \n",
       "3                 87.0   2260.730000        192.00                     599   \n",
       "4                 40.0   2083.890000        229.13                     821   \n",
       "\n",
       "   Customer_rating  Average_food_rating  Average_happiness_rating  \\\n",
       "0                4                    4                         4   \n",
       "1                4                    4                         2   \n",
       "2                4                    4                         5   \n",
       "3                4                    4                         3   \n",
       "4                4                    5                         2   \n",
       "\n",
       "   Discount_percentage  Coupon_consumption_percent  status_Active  \\\n",
       "0                   34                    0.600000              1   \n",
       "1                   42                    0.479675              0   \n",
       "2                   31                    0.545455              0   \n",
       "3                   19                    0.500000              1   \n",
       "4                   21                    0.800000              0   \n",
       "\n",
       "   status_Inactive  status_Passive  premium_No  premium_Yes  \n",
       "0                0               0           1            0  \n",
       "1                1               0           1            0  \n",
       "2                0               1           1            0  \n",
       "3                0               0           1            0  \n",
       "4                0               1           1            0  "
      ]
     },
     "execution_count": 10,
     "metadata": {},
     "output_type": "execute_result"
    }
   ],
   "source": [
    "#encoding non numeric values\n",
    "\n",
    "train_data = pd.get_dummies(train_data,prefix=[\"status\",\"premium\"],columns=[\"Category_of_customers\",\"Premium_membership\"])\n",
    "train_data.head()"
   ]
  },
  {
   "cell_type": "code",
   "execution_count": 11,
   "id": "ad70328e",
   "metadata": {
    "execution": {
     "iopub.execute_input": "2021-09-25T17:51:14.928927Z",
     "iopub.status.busy": "2021-09-25T17:51:14.927944Z",
     "iopub.status.idle": "2021-09-25T17:51:15.401860Z",
     "shell.execute_reply": "2021-09-25T17:51:15.402469Z",
     "shell.execute_reply.started": "2021-09-25T12:00:54.560686Z"
    },
    "papermill": {
     "duration": 0.518942,
     "end_time": "2021-09-25T17:51:15.402645",
     "exception": false,
     "start_time": "2021-09-25T17:51:14.883703",
     "status": "completed"
    },
    "tags": []
   },
   "outputs": [],
   "source": [
    "train_data.to_csv(\"processed_train\",index=False)"
   ]
  },
  {
   "cell_type": "code",
   "execution_count": 12,
   "id": "104642e2",
   "metadata": {
    "execution": {
     "iopub.execute_input": "2021-09-25T17:51:15.486964Z",
     "iopub.status.busy": "2021-09-25T17:51:15.486273Z",
     "iopub.status.idle": "2021-09-25T17:51:15.499261Z",
     "shell.execute_reply": "2021-09-25T17:51:15.498596Z",
     "shell.execute_reply.started": "2021-09-25T13:31:34.255163Z"
    },
    "papermill": {
     "duration": 0.057328,
     "end_time": "2021-09-25T17:51:15.499416",
     "exception": false,
     "start_time": "2021-09-25T17:51:15.442088",
     "status": "completed"
    },
    "tags": []
   },
   "outputs": [],
   "source": [
    "X=train_data.copy(deep=True)\n",
    "X.drop(columns=[\"Discount_percentage\"],inplace=True)\n",
    "y=train_data[\"Discount_percentage\"]\n",
    "\n",
    "x=X.to_numpy()\n",
    "y=y.to_numpy()\n"
   ]
  },
  {
   "cell_type": "code",
   "execution_count": 13,
   "id": "35979e9f",
   "metadata": {
    "execution": {
     "iopub.execute_input": "2021-09-25T17:51:15.594591Z",
     "iopub.status.busy": "2021-09-25T17:51:15.593892Z",
     "iopub.status.idle": "2021-09-25T17:51:15.596771Z",
     "shell.execute_reply": "2021-09-25T17:51:15.597243Z",
     "shell.execute_reply.started": "2021-09-25T13:31:36.93482Z"
    },
    "papermill": {
     "duration": 0.058761,
     "end_time": "2021-09-25T17:51:15.597425",
     "exception": false,
     "start_time": "2021-09-25T17:51:15.538664",
     "status": "completed"
    },
    "tags": []
   },
   "outputs": [
    {
     "data": {
      "text/html": [
       "<div>\n",
       "<style scoped>\n",
       "    .dataframe tbody tr th:only-of-type {\n",
       "        vertical-align: middle;\n",
       "    }\n",
       "\n",
       "    .dataframe tbody tr th {\n",
       "        vertical-align: top;\n",
       "    }\n",
       "\n",
       "    .dataframe thead th {\n",
       "        text-align: right;\n",
       "    }\n",
       "</style>\n",
       "<table border=\"1\" class=\"dataframe\">\n",
       "  <thead>\n",
       "    <tr style=\"text-align: right;\">\n",
       "      <th></th>\n",
       "      <th>No_of_orders_placed</th>\n",
       "      <th>Maximum_bill</th>\n",
       "      <th>Minimum_bill</th>\n",
       "      <th>Last_order_placed_date</th>\n",
       "      <th>Customer_rating</th>\n",
       "      <th>Average_food_rating</th>\n",
       "      <th>Average_happiness_rating</th>\n",
       "      <th>Coupon_consumption_percent</th>\n",
       "      <th>status_Active</th>\n",
       "      <th>status_Inactive</th>\n",
       "      <th>status_Passive</th>\n",
       "      <th>premium_No</th>\n",
       "      <th>premium_Yes</th>\n",
       "    </tr>\n",
       "  </thead>\n",
       "  <tbody>\n",
       "    <tr>\n",
       "      <th>0</th>\n",
       "      <td>129.0</td>\n",
       "      <td>2251.620000</td>\n",
       "      <td>261.26</td>\n",
       "      <td>540</td>\n",
       "      <td>4</td>\n",
       "      <td>4</td>\n",
       "      <td>4</td>\n",
       "      <td>0.600000</td>\n",
       "      <td>1</td>\n",
       "      <td>0</td>\n",
       "      <td>0</td>\n",
       "      <td>1</td>\n",
       "      <td>0</td>\n",
       "    </tr>\n",
       "    <tr>\n",
       "      <th>1</th>\n",
       "      <td>0.0</td>\n",
       "      <td>-450.457485</td>\n",
       "      <td>98.63</td>\n",
       "      <td>2041</td>\n",
       "      <td>4</td>\n",
       "      <td>4</td>\n",
       "      <td>2</td>\n",
       "      <td>0.479675</td>\n",
       "      <td>0</td>\n",
       "      <td>1</td>\n",
       "      <td>0</td>\n",
       "      <td>1</td>\n",
       "      <td>0</td>\n",
       "    </tr>\n",
       "    <tr>\n",
       "      <th>2</th>\n",
       "      <td>100.0</td>\n",
       "      <td>1792.660000</td>\n",
       "      <td>144.00</td>\n",
       "      <td>1128</td>\n",
       "      <td>4</td>\n",
       "      <td>4</td>\n",
       "      <td>5</td>\n",
       "      <td>0.545455</td>\n",
       "      <td>0</td>\n",
       "      <td>0</td>\n",
       "      <td>1</td>\n",
       "      <td>1</td>\n",
       "      <td>0</td>\n",
       "    </tr>\n",
       "    <tr>\n",
       "      <th>3</th>\n",
       "      <td>87.0</td>\n",
       "      <td>2260.730000</td>\n",
       "      <td>192.00</td>\n",
       "      <td>599</td>\n",
       "      <td>4</td>\n",
       "      <td>4</td>\n",
       "      <td>3</td>\n",
       "      <td>0.500000</td>\n",
       "      <td>1</td>\n",
       "      <td>0</td>\n",
       "      <td>0</td>\n",
       "      <td>1</td>\n",
       "      <td>0</td>\n",
       "    </tr>\n",
       "    <tr>\n",
       "      <th>4</th>\n",
       "      <td>40.0</td>\n",
       "      <td>2083.890000</td>\n",
       "      <td>229.13</td>\n",
       "      <td>821</td>\n",
       "      <td>4</td>\n",
       "      <td>5</td>\n",
       "      <td>2</td>\n",
       "      <td>0.800000</td>\n",
       "      <td>0</td>\n",
       "      <td>0</td>\n",
       "      <td>1</td>\n",
       "      <td>1</td>\n",
       "      <td>0</td>\n",
       "    </tr>\n",
       "  </tbody>\n",
       "</table>\n",
       "</div>"
      ],
      "text/plain": [
       "   No_of_orders_placed  Maximum_bill  Minimum_bill  Last_order_placed_date  \\\n",
       "0                129.0   2251.620000        261.26                     540   \n",
       "1                  0.0   -450.457485         98.63                    2041   \n",
       "2                100.0   1792.660000        144.00                    1128   \n",
       "3                 87.0   2260.730000        192.00                     599   \n",
       "4                 40.0   2083.890000        229.13                     821   \n",
       "\n",
       "   Customer_rating  Average_food_rating  Average_happiness_rating  \\\n",
       "0                4                    4                         4   \n",
       "1                4                    4                         2   \n",
       "2                4                    4                         5   \n",
       "3                4                    4                         3   \n",
       "4                4                    5                         2   \n",
       "\n",
       "   Coupon_consumption_percent  status_Active  status_Inactive  status_Passive  \\\n",
       "0                    0.600000              1                0               0   \n",
       "1                    0.479675              0                1               0   \n",
       "2                    0.545455              0                0               1   \n",
       "3                    0.500000              1                0               0   \n",
       "4                    0.800000              0                0               1   \n",
       "\n",
       "   premium_No  premium_Yes  \n",
       "0           1            0  \n",
       "1           1            0  \n",
       "2           1            0  \n",
       "3           1            0  \n",
       "4           1            0  "
      ]
     },
     "execution_count": 13,
     "metadata": {},
     "output_type": "execute_result"
    }
   ],
   "source": [
    "X.head()"
   ]
  },
  {
   "cell_type": "code",
   "execution_count": 14,
   "id": "1b2d08cb",
   "metadata": {
    "execution": {
     "iopub.execute_input": "2021-09-25T17:51:15.680493Z",
     "iopub.status.busy": "2021-09-25T17:51:15.679791Z",
     "iopub.status.idle": "2021-09-25T17:51:16.652273Z",
     "shell.execute_reply": "2021-09-25T17:51:16.652827Z",
     "shell.execute_reply.started": "2021-09-25T13:32:17.67431Z"
    },
    "papermill": {
     "duration": 1.015742,
     "end_time": "2021-09-25T17:51:16.652998",
     "exception": false,
     "start_time": "2021-09-25T17:51:15.637256",
     "status": "completed"
    },
    "tags": []
   },
   "outputs": [
    {
     "name": "stdout",
     "output_type": "stream",
     "text": [
      "32281 21521 32281 21521\n"
     ]
    }
   ],
   "source": [
    "#train test split\n",
    "\n",
    "from sklearn.model_selection import train_test_split\n",
    "xtrain,xtest,ytrain,ytest=train_test_split(x,y,test_size=0.4,random_state=7)\n",
    "print(len(xtrain),len(xtest),len(ytrain),len(ytest))"
   ]
  },
  {
   "cell_type": "code",
   "execution_count": 15,
   "id": "a318c154",
   "metadata": {
    "execution": {
     "iopub.execute_input": "2021-09-25T17:51:16.740642Z",
     "iopub.status.busy": "2021-09-25T17:51:16.739594Z",
     "iopub.status.idle": "2021-09-25T17:51:16.742645Z",
     "shell.execute_reply": "2021-09-25T17:51:16.741977Z",
     "shell.execute_reply.started": "2021-09-25T13:32:20.723744Z"
    },
    "papermill": {
     "duration": 0.049457,
     "end_time": "2021-09-25T17:51:16.742792",
     "exception": false,
     "start_time": "2021-09-25T17:51:16.693335",
     "status": "completed"
    },
    "tags": []
   },
   "outputs": [],
   "source": [
    "from sklearn.metrics import mean_absolute_error as MAE, mean_squared_error as MSE\n",
    "\n",
    "Mse={}\n",
    "Mae={}\n",
    "def evaluate(ypred,y):\n",
    "    mae=MAE(ypred,y)\n",
    "    mse=MSE(ypred,y,squared=False)\n",
    "    print(\"MSE: \",mse,\"\\nMAE: \",mae)\n",
    "    return mse,mae"
   ]
  },
  {
   "cell_type": "code",
   "execution_count": 16,
   "id": "e5b7e8ff",
   "metadata": {
    "execution": {
     "iopub.execute_input": "2021-09-25T17:51:16.827504Z",
     "iopub.status.busy": "2021-09-25T17:51:16.826636Z",
     "iopub.status.idle": "2021-09-25T17:51:16.946509Z",
     "shell.execute_reply": "2021-09-25T17:51:16.947395Z",
     "shell.execute_reply.started": "2021-09-25T13:32:23.353273Z"
    },
    "papermill": {
     "duration": 0.16587,
     "end_time": "2021-09-25T17:51:16.947660",
     "exception": false,
     "start_time": "2021-09-25T17:51:16.781790",
     "status": "completed"
    },
    "tags": []
   },
   "outputs": [
    {
     "name": "stdout",
     "output_type": "stream",
     "text": [
      "MSE:  8.265313959368568 \n",
      "MAE:  6.68096786903073\n"
     ]
    }
   ],
   "source": [
    "#linear reg\n",
    "from sklearn.linear_model import LinearRegression as LR\n",
    "lr=LR()\n",
    "lr.fit(xtrain,ytrain)\n",
    "ypred=lr.predict(xtest)\n",
    "\n",
    "Mse[\"LR\"],Mae[\"LR\"]=evaluate(ypred,ytest)"
   ]
  },
  {
   "cell_type": "code",
   "execution_count": 17,
   "id": "99f48be3",
   "metadata": {
    "execution": {
     "iopub.execute_input": "2021-09-25T17:51:17.083928Z",
     "iopub.status.busy": "2021-09-25T17:51:17.083153Z",
     "iopub.status.idle": "2021-09-25T17:51:17.103878Z",
     "shell.execute_reply": "2021-09-25T17:51:17.105495Z",
     "shell.execute_reply.started": "2021-09-25T13:32:31.270317Z"
    },
    "papermill": {
     "duration": 0.086392,
     "end_time": "2021-09-25T17:51:17.105973",
     "exception": false,
     "start_time": "2021-09-25T17:51:17.019581",
     "status": "completed"
    },
    "tags": []
   },
   "outputs": [
    {
     "name": "stdout",
     "output_type": "stream",
     "text": [
      "MSE:  8.894135825930233 \n",
      "MAE:  7.20657897441201\n"
     ]
    }
   ],
   "source": [
    "#lasso reg\n",
    "from sklearn.linear_model import Lasso\n",
    "lasso=Lasso()\n",
    "lasso.fit(xtrain,ytrain)\n",
    "ypred=lasso.predict(xtest)\n",
    "Mse[\"Lasso\"],Mae[\"Lasso\"]=evaluate(ypred,ytest)"
   ]
  },
  {
   "cell_type": "code",
   "execution_count": 18,
   "id": "4088cae7",
   "metadata": {
    "execution": {
     "iopub.execute_input": "2021-09-25T17:51:17.244917Z",
     "iopub.status.busy": "2021-09-25T17:51:17.244268Z",
     "iopub.status.idle": "2021-09-25T17:51:17.263780Z",
     "shell.execute_reply": "2021-09-25T17:51:17.264664Z",
     "shell.execute_reply.started": "2021-09-25T13:32:45.284767Z"
    },
    "papermill": {
     "duration": 0.083505,
     "end_time": "2021-09-25T17:51:17.264933",
     "exception": false,
     "start_time": "2021-09-25T17:51:17.181428",
     "status": "completed"
    },
    "tags": []
   },
   "outputs": [
    {
     "name": "stdout",
     "output_type": "stream",
     "text": [
      "MSE:  8.894135825930233 \n",
      "MAE:  7.20657897441201\n"
     ]
    }
   ],
   "source": [
    "#ridge reg\n",
    "\n",
    "from sklearn.linear_model import Ridge\n",
    "ridge=Ridge()\n",
    "ridge.fit(xtrain,ytrain)\n",
    "ypred=lasso.predict(xtest)\n",
    "Mse[\"Ridge\"],Mae[\"Ridge\"]=evaluate(ypred,ytest)"
   ]
  },
  {
   "cell_type": "code",
   "execution_count": 19,
   "id": "7d8441a3",
   "metadata": {
    "execution": {
     "iopub.execute_input": "2021-09-25T17:51:17.401016Z",
     "iopub.status.busy": "2021-09-25T17:51:17.400369Z",
     "iopub.status.idle": "2021-09-25T17:51:45.187863Z",
     "shell.execute_reply": "2021-09-25T17:51:45.187245Z",
     "shell.execute_reply.started": "2021-09-25T14:07:18.33067Z"
    },
    "papermill": {
     "duration": 27.851429,
     "end_time": "2021-09-25T17:51:45.188008",
     "exception": false,
     "start_time": "2021-09-25T17:51:17.336579",
     "status": "completed"
    },
    "tags": []
   },
   "outputs": [
    {
     "name": "stdout",
     "output_type": "stream",
     "text": [
      "MSE:  6.773681473773736 \n",
      "MAE:  5.5567733841364255\n"
     ]
    }
   ],
   "source": [
    "#random forest reg\n",
    "\n",
    "from sklearn.ensemble import RandomForestRegressor as rfr\n",
    "rf=rfr()\n",
    "rf.fit(xtrain,ytrain)\n",
    "ypred=rf.predict(xtest)\n",
    "Mse[\"RF\"],Mae[\"RF\"]=evaluate(ypred,ytest)\n",
    "yrf=ypred[:]"
   ]
  },
  {
   "cell_type": "code",
   "execution_count": 20,
   "id": "9c0ad781",
   "metadata": {
    "execution": {
     "iopub.execute_input": "2021-09-25T17:51:45.273305Z",
     "iopub.status.busy": "2021-09-25T17:51:45.272359Z",
     "iopub.status.idle": "2021-09-25T17:51:47.949101Z",
     "shell.execute_reply": "2021-09-25T17:51:47.948222Z",
     "shell.execute_reply.started": "2021-09-25T14:00:57.45126Z"
    },
    "papermill": {
     "duration": 2.720827,
     "end_time": "2021-09-25T17:51:47.949296",
     "exception": false,
     "start_time": "2021-09-25T17:51:45.228469",
     "status": "completed"
    },
    "tags": []
   },
   "outputs": [
    {
     "name": "stdout",
     "output_type": "stream",
     "text": [
      "MSE:  7.0746089844523565 \n",
      "MAE:  5.836439821004942\n"
     ]
    }
   ],
   "source": [
    "#Adaboost reg\n",
    "\n",
    "from sklearn.ensemble import AdaBoostRegressor\n",
    "ada=AdaBoostRegressor()\n",
    "ada.fit(xtrain,ytrain)\n",
    "ypred=ada.predict(xtest)\n",
    "Mse[\"Ada\"],Mae[\"Ada\"]=evaluate(ypred,ytest)\n",
    "yada=ypred[:]"
   ]
  },
  {
   "cell_type": "code",
   "execution_count": 21,
   "id": "34bb7271",
   "metadata": {
    "execution": {
     "iopub.execute_input": "2021-09-25T17:51:48.037941Z",
     "iopub.status.busy": "2021-09-25T17:51:48.037042Z",
     "iopub.status.idle": "2021-09-25T17:51:50.129862Z",
     "shell.execute_reply": "2021-09-25T17:51:50.130925Z",
     "shell.execute_reply.started": "2021-09-25T14:07:12.148368Z"
    },
    "papermill": {
     "duration": 2.140473,
     "end_time": "2021-09-25T17:51:50.131260",
     "exception": false,
     "start_time": "2021-09-25T17:51:47.990787",
     "status": "completed"
    },
    "tags": []
   },
   "outputs": [
    {
     "name": "stdout",
     "output_type": "stream",
     "text": [
      "MSE:  6.779122312806257 \n",
      "MAE:  5.55334155840156\n"
     ]
    }
   ],
   "source": [
    "#XGB reg\n",
    "\n",
    "from xgboost.sklearn import XGBRegressor\n",
    "xgb=XGBRegressor()\n",
    "xgb.fit(xtrain,ytrain)\n",
    "ypred=xgb.predict(xtest)\n",
    "Mse[\"XGB\"],Mae[\"XGB\"]=evaluate(ypred,ytest)\n",
    "yxg=ypred[:]"
   ]
  },
  {
   "cell_type": "code",
   "execution_count": 22,
   "id": "cfebd37e",
   "metadata": {
    "execution": {
     "iopub.execute_input": "2021-09-25T17:51:50.221095Z",
     "iopub.status.busy": "2021-09-25T17:51:50.220403Z",
     "iopub.status.idle": "2021-09-25T17:53:32.526801Z",
     "shell.execute_reply": "2021-09-25T17:53:32.527397Z",
     "shell.execute_reply.started": "2021-09-25T13:34:10.856317Z"
    },
    "papermill": {
     "duration": 102.353078,
     "end_time": "2021-09-25T17:53:32.527605",
     "exception": false,
     "start_time": "2021-09-25T17:51:50.174527",
     "status": "completed"
    },
    "tags": []
   },
   "outputs": [
    {
     "name": "stdout",
     "output_type": "stream",
     "text": [
      "MSE:  8.898011022676753 \n",
      "MAE:  7.149164302845298\n"
     ]
    }
   ],
   "source": [
    "#SVR\n",
    "\n",
    "from sklearn.svm import SVR\n",
    "svm=SVR()\n",
    "svm.fit(xtrain,ytrain)\n",
    "ypred=svm.predict(xtest)\n",
    "Mse[\"SVR\"],Mae[\"SVR\"]=evaluate(ypred,ytest)"
   ]
  },
  {
   "cell_type": "code",
   "execution_count": 23,
   "id": "39bd2536",
   "metadata": {
    "execution": {
     "iopub.execute_input": "2021-09-25T17:53:32.616752Z",
     "iopub.status.busy": "2021-09-25T17:53:32.616054Z",
     "iopub.status.idle": "2021-09-25T17:53:32.634493Z",
     "shell.execute_reply": "2021-09-25T17:53:32.636155Z",
     "shell.execute_reply.started": "2021-09-25T13:35:58.236507Z"
    },
    "papermill": {
     "duration": 0.06749,
     "end_time": "2021-09-25T17:53:32.636595",
     "exception": false,
     "start_time": "2021-09-25T17:53:32.569105",
     "status": "completed"
    },
    "tags": []
   },
   "outputs": [
    {
     "name": "stdout",
     "output_type": "stream",
     "text": [
      "MSE:  8.766752405853211 \n",
      "MAE:  7.108105005752149\n"
     ]
    }
   ],
   "source": [
    "#elastic net\n",
    "\n",
    "from sklearn.linear_model import ElasticNet\n",
    "en=ElasticNet()\n",
    "en.fit(xtrain,ytrain)\n",
    "ypred=en.predict(xtest)\n",
    "Mse[\"SVR\"],Mae[\"SVR\"]=evaluate(ypred,ytest)"
   ]
  },
  {
   "cell_type": "code",
   "execution_count": 24,
   "id": "2fef4026",
   "metadata": {
    "execution": {
     "iopub.execute_input": "2021-09-25T17:53:32.774443Z",
     "iopub.status.busy": "2021-09-25T17:53:32.773764Z",
     "iopub.status.idle": "2021-09-25T17:53:34.376680Z",
     "shell.execute_reply": "2021-09-25T17:53:34.378090Z",
     "shell.execute_reply.started": "2021-09-25T13:36:09.021426Z"
    },
    "papermill": {
     "duration": 1.666982,
     "end_time": "2021-09-25T17:53:34.378421",
     "exception": false,
     "start_time": "2021-09-25T17:53:32.711439",
     "status": "completed"
    },
    "tags": []
   },
   "outputs": [
    {
     "name": "stdout",
     "output_type": "stream",
     "text": [
      "MSE:  417315952906488.4 \n",
      "MAE:  347533443933806.8\n"
     ]
    }
   ],
   "source": [
    "#SGD\n",
    "\n",
    "from sklearn.linear_model import SGDRegressor\n",
    "sgd=SGDRegressor()\n",
    "sgd.fit(xtrain,ytrain)\n",
    "ypred=sgd.predict(xtest)\n",
    "Mse[\"SGD\"],Mae[\"SGD\"]=evaluate(ypred,ytest)"
   ]
  },
  {
   "cell_type": "code",
   "execution_count": 25,
   "id": "291b836b",
   "metadata": {
    "execution": {
     "iopub.execute_input": "2021-09-25T17:53:34.515467Z",
     "iopub.status.busy": "2021-09-25T17:53:34.514800Z",
     "iopub.status.idle": "2021-09-25T17:53:34.542559Z",
     "shell.execute_reply": "2021-09-25T17:53:34.543961Z",
     "shell.execute_reply.started": "2021-09-25T13:36:17.902796Z"
    },
    "papermill": {
     "duration": 0.091217,
     "end_time": "2021-09-25T17:53:34.544245",
     "exception": false,
     "start_time": "2021-09-25T17:53:34.453028",
     "status": "completed"
    },
    "tags": []
   },
   "outputs": [
    {
     "name": "stdout",
     "output_type": "stream",
     "text": [
      "MSE:  8.265195198978908 \n",
      "MAE:  6.68095539516995\n"
     ]
    }
   ],
   "source": [
    "#bayesian ridge\n",
    "\n",
    "from sklearn.linear_model import BayesianRidge\n",
    "NB=BayesianRidge()\n",
    "NB.fit(xtrain,ytrain)\n",
    "ypred=NB.predict(xtest)\n",
    "Mse[\"NB\"],Mae[\"NB\"]=evaluate(ypred,ytest)"
   ]
  },
  {
   "cell_type": "code",
   "execution_count": 26,
   "id": "cbb01a86",
   "metadata": {
    "execution": {
     "iopub.execute_input": "2021-09-25T17:53:34.685528Z",
     "iopub.status.busy": "2021-09-25T17:53:34.684504Z",
     "iopub.status.idle": "2021-09-25T17:53:34.689027Z",
     "shell.execute_reply": "2021-09-25T17:53:34.688482Z",
     "shell.execute_reply.started": "2021-09-25T13:36:22.361468Z"
    },
    "papermill": {
     "duration": 0.068174,
     "end_time": "2021-09-25T17:53:34.689158",
     "exception": false,
     "start_time": "2021-09-25T17:53:34.620984",
     "status": "completed"
    },
    "tags": []
   },
   "outputs": [
    {
     "name": "stdout",
     "output_type": "stream",
     "text": [
      "[('RF', 6.773681473773736), ('XGB', 6.779122312806257), ('Ada', 7.0746089844523565), ('NB', 8.265195198978908), ('LR', 8.265313959368568), ('SVR', 8.766752405853211), ('Lasso', 8.894135825930233), ('Ridge', 8.894135825930233), ('SGD', 417315952906488.4)]\n",
      "[('XGB', 5.55334155840156), ('RF', 5.5567733841364255), ('Ada', 5.836439821004942), ('NB', 6.68095539516995), ('LR', 6.68096786903073), ('SVR', 7.108105005752149), ('Lasso', 7.20657897441201), ('Ridge', 7.20657897441201), ('SGD', 347533443933806.8)]\n"
     ]
    }
   ],
   "source": [
    "# Finding best regressor\n",
    "\n",
    "print(sorted(Mse.items(),key=lambda x:x[1]))\n",
    "\n",
    "print(sorted(Mae.items(),key=lambda x:x[1]))\n",
    "# print(sort_mae)\n",
    "# for i in sort_mae:\n",
    "#     print(i[0],i[1])"
   ]
  },
  {
   "cell_type": "code",
   "execution_count": 27,
   "id": "d7c1c34f",
   "metadata": {
    "execution": {
     "iopub.execute_input": "2021-09-25T17:53:34.780590Z",
     "iopub.status.busy": "2021-09-25T17:53:34.779513Z",
     "iopub.status.idle": "2021-09-25T18:00:51.158932Z",
     "shell.execute_reply": "2021-09-25T18:00:51.159588Z",
     "shell.execute_reply.started": "2021-09-25T13:43:31.356219Z"
    },
    "papermill": {
     "duration": 436.428302,
     "end_time": "2021-09-25T18:00:51.159965",
     "exception": false,
     "start_time": "2021-09-25T17:53:34.731663",
     "status": "completed"
    },
    "tags": []
   },
   "outputs": [
    {
     "name": "stdout",
     "output_type": "stream",
     "text": [
      "[0.49508516 0.50972542 0.49459947 0.4943442  0.52856131 0.50925755\n",
      " 0.49988561 0.49640817 0.49746613 0.5011294 ]\n"
     ]
    }
   ],
   "source": [
    "# cross val for RF\n",
    "from sklearn.model_selection import cross_val_score as cv\n",
    "reg=rfr()\n",
    "score=cv(reg,x,y,cv=10,scoring='r2')\n",
    "print(score)"
   ]
  },
  {
   "cell_type": "code",
   "execution_count": 28,
   "id": "36462671",
   "metadata": {
    "execution": {
     "iopub.execute_input": "2021-09-25T18:00:51.260976Z",
     "iopub.status.busy": "2021-09-25T18:00:51.260244Z",
     "iopub.status.idle": "2021-09-25T18:01:22.424692Z",
     "shell.execute_reply": "2021-09-25T18:01:22.423718Z",
     "shell.execute_reply.started": "2021-09-25T13:58:26.638677Z"
    },
    "papermill": {
     "duration": 31.221861,
     "end_time": "2021-09-25T18:01:22.424941",
     "exception": false,
     "start_time": "2021-09-25T18:00:51.203080",
     "status": "completed"
    },
    "tags": []
   },
   "outputs": [
    {
     "name": "stdout",
     "output_type": "stream",
     "text": [
      "MSE:  417315952906488.4 \n",
      "MAE:  347533443933806.8\n"
     ]
    },
    {
     "data": {
      "text/plain": [
       "(417315952906488.4, 347533443933806.8)"
      ]
     },
     "execution_count": 28,
     "metadata": {},
     "output_type": "execute_result"
    }
   ],
   "source": [
    "#voting reg\n",
    "\n",
    "\n",
    "rf=rfr()\n",
    "xgb=XGBRegressor()\n",
    "ada=AdaBoostRegressor()\n",
    "models=[(\"RF\",rf),(\"XGB\",xgb),(\"ADA\",ada)]\n",
    "\n",
    "from sklearn.ensemble import VotingRegressor as VR\n",
    "vr=VR(models)\n",
    "vr.fit(xtrain,ytrain)\n",
    "ypred=sgd.predict(xtest)\n",
    "evaluate(ypred,ytest)"
   ]
  },
  {
   "cell_type": "code",
   "execution_count": 29,
   "id": "4963801d",
   "metadata": {
    "execution": {
     "iopub.execute_input": "2021-09-25T18:01:22.531746Z",
     "iopub.status.busy": "2021-09-25T18:01:22.531074Z",
     "iopub.status.idle": "2021-09-25T18:03:55.689838Z",
     "shell.execute_reply": "2021-09-25T18:03:55.688871Z",
     "shell.execute_reply.started": "2021-09-25T13:54:34.407638Z"
    },
    "papermill": {
     "duration": 153.209015,
     "end_time": "2021-09-25T18:03:55.690148",
     "exception": false,
     "start_time": "2021-09-25T18:01:22.481133",
     "status": "completed"
    },
    "tags": []
   },
   "outputs": [
    {
     "name": "stdout",
     "output_type": "stream",
     "text": [
      "MSE:  6.696420958019805 \n",
      "MAE:  5.522090909314437\n"
     ]
    },
    {
     "data": {
      "text/plain": [
       "(6.696420958019805, 5.522090909314437)"
      ]
     },
     "execution_count": 29,
     "metadata": {},
     "output_type": "execute_result"
    }
   ],
   "source": [
    "#stacking\n",
    "\n",
    "rf=rfr()\n",
    "xgb=XGBRegressor()\n",
    "ada=AdaBoostRegressor()\n",
    "models=[(\"RF\",rf),(\"XGB\",xgb),(\"ADA\",ada)]\n",
    "\n",
    "from sklearn.ensemble import StackingRegressor as stack\n",
    "st=stack(models)\n",
    "st.fit(xtrain,ytrain)\n",
    "ypred=st.predict(xtest)\n",
    "evaluate(ypred,ytest)"
   ]
  },
  {
   "cell_type": "code",
   "execution_count": 30,
   "id": "389a14a3",
   "metadata": {
    "execution": {
     "iopub.execute_input": "2021-09-25T18:03:55.794917Z",
     "iopub.status.busy": "2021-09-25T18:03:55.793903Z",
     "iopub.status.idle": "2021-09-25T18:03:55.801936Z",
     "shell.execute_reply": "2021-09-25T18:03:55.802485Z",
     "shell.execute_reply.started": "2021-09-25T14:08:37.976429Z"
    },
    "papermill": {
     "duration": 0.057735,
     "end_time": "2021-09-25T18:03:55.802669",
     "exception": false,
     "start_time": "2021-09-25T18:03:55.744934",
     "status": "completed"
    },
    "tags": []
   },
   "outputs": [
    {
     "name": "stdout",
     "output_type": "stream",
     "text": [
      "MSE:  6.707061868152533 \n",
      "MAE:  5.53813170359014\n"
     ]
    },
    {
     "data": {
      "text/plain": [
       "(6.707061868152533, 5.53813170359014)"
      ]
     },
     "execution_count": 30,
     "metadata": {},
     "output_type": "execute_result"
    }
   ],
   "source": [
    "ypred=(yxg+yrf+yada)/3\n",
    "evaluate(ypred,ytest)"
   ]
  },
  {
   "cell_type": "code",
   "execution_count": 31,
   "id": "4d4a6882",
   "metadata": {
    "execution": {
     "iopub.execute_input": "2021-09-25T18:03:55.903240Z",
     "iopub.status.busy": "2021-09-25T18:03:55.902545Z",
     "iopub.status.idle": "2021-09-25T18:08:31.171807Z",
     "shell.execute_reply": "2021-09-25T18:08:31.170775Z",
     "shell.execute_reply.started": "2021-09-25T14:09:41.988996Z"
    },
    "papermill": {
     "duration": 275.323702,
     "end_time": "2021-09-25T18:08:31.172046",
     "exception": false,
     "start_time": "2021-09-25T18:03:55.848344",
     "status": "completed"
    },
    "tags": []
   },
   "outputs": [
    {
     "name": "stdout",
     "output_type": "stream",
     "text": [
      "MSE:  4.890784876817562 \n",
      "MAE:  4.057510630141705\n"
     ]
    },
    {
     "data": {
      "text/plain": [
       "(4.890784876817562, 4.057510630141705)"
      ]
     },
     "execution_count": 31,
     "metadata": {},
     "output_type": "execute_result"
    }
   ],
   "source": [
    "from sklearn.ensemble import StackingRegressor as stack\n",
    "st=stack(models)\n",
    "st.fit(x,y)\n",
    "ypred=st.predict(xtest)\n",
    "evaluate(ypred,ytest)"
   ]
  },
  {
   "cell_type": "markdown",
   "id": "47f6a1ab",
   "metadata": {
    "papermill": {
     "duration": 0.044999,
     "end_time": "2021-09-25T18:08:31.272653",
     "exception": false,
     "start_time": "2021-09-25T18:08:31.227654",
     "status": "completed"
    },
    "tags": []
   },
   "source": [
    "# **Predictions**"
   ]
  },
  {
   "cell_type": "code",
   "execution_count": 32,
   "id": "0d2e8473",
   "metadata": {
    "execution": {
     "iopub.execute_input": "2021-09-25T18:08:31.368653Z",
     "iopub.status.busy": "2021-09-25T18:08:31.367881Z",
     "iopub.status.idle": "2021-09-25T18:08:31.430537Z",
     "shell.execute_reply": "2021-09-25T18:08:31.431020Z",
     "shell.execute_reply.started": "2021-09-25T14:32:54.619912Z"
    },
    "papermill": {
     "duration": 0.112986,
     "end_time": "2021-09-25T18:08:31.431194",
     "exception": false,
     "start_time": "2021-09-25T18:08:31.318208",
     "status": "completed"
    },
    "tags": []
   },
   "outputs": [
    {
     "data": {
      "text/html": [
       "<div>\n",
       "<style scoped>\n",
       "    .dataframe tbody tr th:only-of-type {\n",
       "        vertical-align: middle;\n",
       "    }\n",
       "\n",
       "    .dataframe tbody tr th {\n",
       "        vertical-align: top;\n",
       "    }\n",
       "\n",
       "    .dataframe thead th {\n",
       "        text-align: right;\n",
       "    }\n",
       "</style>\n",
       "<table border=\"1\" class=\"dataframe\">\n",
       "  <thead>\n",
       "    <tr style=\"text-align: right;\">\n",
       "      <th></th>\n",
       "      <th>Customer_ID</th>\n",
       "      <th>No_of_orders_placed</th>\n",
       "      <th>Category_of_customers</th>\n",
       "      <th>Maximum_bill</th>\n",
       "      <th>Minimum_bill</th>\n",
       "      <th>Last_order_placed_date</th>\n",
       "      <th>No_of_issues_raised</th>\n",
       "      <th>Customer_rating</th>\n",
       "      <th>Average_food_rating</th>\n",
       "      <th>Average_happiness_rating</th>\n",
       "      <th>Coupon_consumption_status</th>\n",
       "      <th>Coupons_offered</th>\n",
       "      <th>Premium_membership</th>\n",
       "    </tr>\n",
       "  </thead>\n",
       "  <tbody>\n",
       "    <tr>\n",
       "      <th>0</th>\n",
       "      <td>ID0x6d88</td>\n",
       "      <td>NaN</td>\n",
       "      <td>Passive</td>\n",
       "      <td>3107.81</td>\n",
       "      <td>104.180000</td>\n",
       "      <td>08/09/2019 06:47 PM</td>\n",
       "      <td>NaN</td>\n",
       "      <td>4</td>\n",
       "      <td>4</td>\n",
       "      <td>4</td>\n",
       "      <td>78.0</td>\n",
       "      <td>184.0</td>\n",
       "      <td>No</td>\n",
       "    </tr>\n",
       "    <tr>\n",
       "      <th>1</th>\n",
       "      <td>ID0xba29</td>\n",
       "      <td>87.0</td>\n",
       "      <td>Passive</td>\n",
       "      <td>1565.53</td>\n",
       "      <td>119.000000</td>\n",
       "      <td>05/01/2019 08:19 PM</td>\n",
       "      <td>87.0</td>\n",
       "      <td>4</td>\n",
       "      <td>4</td>\n",
       "      <td>2</td>\n",
       "      <td>87.0</td>\n",
       "      <td>121.0</td>\n",
       "      <td>Yes</td>\n",
       "    </tr>\n",
       "    <tr>\n",
       "      <th>2</th>\n",
       "      <td>ID0xf2e7</td>\n",
       "      <td>209.0</td>\n",
       "      <td>Active</td>\n",
       "      <td>2513.15</td>\n",
       "      <td>113.340000</td>\n",
       "      <td>01/21/2021 03:44 AM</td>\n",
       "      <td>209.0</td>\n",
       "      <td>4</td>\n",
       "      <td>4</td>\n",
       "      <td>4</td>\n",
       "      <td>114.0</td>\n",
       "      <td>256.0</td>\n",
       "      <td>Yes</td>\n",
       "    </tr>\n",
       "    <tr>\n",
       "      <th>3</th>\n",
       "      <td>ID0xa1c2</td>\n",
       "      <td>61.0</td>\n",
       "      <td>Passive</td>\n",
       "      <td>2277.55</td>\n",
       "      <td>53.199684</td>\n",
       "      <td>02/26/2019 08:10 AM</td>\n",
       "      <td>61.0</td>\n",
       "      <td>4</td>\n",
       "      <td>5</td>\n",
       "      <td>5</td>\n",
       "      <td>61.0</td>\n",
       "      <td>91.0</td>\n",
       "      <td>No</td>\n",
       "    </tr>\n",
       "    <tr>\n",
       "      <th>4</th>\n",
       "      <td>ID0xd67</td>\n",
       "      <td>218.0</td>\n",
       "      <td>Active</td>\n",
       "      <td>3117.99</td>\n",
       "      <td>344.070000</td>\n",
       "      <td>09/30/2020 10:14 AM</td>\n",
       "      <td>218.0</td>\n",
       "      <td>4</td>\n",
       "      <td>3</td>\n",
       "      <td>4</td>\n",
       "      <td>138.0</td>\n",
       "      <td>318.0</td>\n",
       "      <td>No</td>\n",
       "    </tr>\n",
       "  </tbody>\n",
       "</table>\n",
       "</div>"
      ],
      "text/plain": [
       "  Customer_ID  No_of_orders_placed Category_of_customers  Maximum_bill  \\\n",
       "0    ID0x6d88                  NaN               Passive       3107.81   \n",
       "1    ID0xba29                 87.0               Passive       1565.53   \n",
       "2    ID0xf2e7                209.0                Active       2513.15   \n",
       "3    ID0xa1c2                 61.0               Passive       2277.55   \n",
       "4     ID0xd67                218.0                Active       3117.99   \n",
       "\n",
       "   Minimum_bill Last_order_placed_date  No_of_issues_raised  Customer_rating  \\\n",
       "0    104.180000    08/09/2019 06:47 PM                  NaN                4   \n",
       "1    119.000000    05/01/2019 08:19 PM                 87.0                4   \n",
       "2    113.340000    01/21/2021 03:44 AM                209.0                4   \n",
       "3     53.199684    02/26/2019 08:10 AM                 61.0                4   \n",
       "4    344.070000    09/30/2020 10:14 AM                218.0                4   \n",
       "\n",
       "   Average_food_rating  Average_happiness_rating  Coupon_consumption_status  \\\n",
       "0                    4                         4                       78.0   \n",
       "1                    4                         2                       87.0   \n",
       "2                    4                         4                      114.0   \n",
       "3                    5                         5                       61.0   \n",
       "4                    3                         4                      138.0   \n",
       "\n",
       "   Coupons_offered Premium_membership  \n",
       "0            184.0                 No  \n",
       "1            121.0                Yes  \n",
       "2            256.0                Yes  \n",
       "3             91.0                 No  \n",
       "4            318.0                 No  "
      ]
     },
     "execution_count": 32,
     "metadata": {},
     "output_type": "execute_result"
    }
   ],
   "source": [
    "#reading test data\n",
    "\n",
    "test_data=pd.read_csv(\"../input/beginner-regression/test.csv\")\n",
    "test_data.head()"
   ]
  },
  {
   "cell_type": "code",
   "execution_count": 33,
   "id": "c0a53ef4",
   "metadata": {
    "execution": {
     "iopub.execute_input": "2021-09-25T18:08:31.534823Z",
     "iopub.status.busy": "2021-09-25T18:08:31.534141Z",
     "iopub.status.idle": "2021-09-25T18:08:31.545193Z",
     "shell.execute_reply": "2021-09-25T18:08:31.544528Z",
     "shell.execute_reply.started": "2021-09-25T14:32:57.61339Z"
    },
    "papermill": {
     "duration": 0.067596,
     "end_time": "2021-09-25T18:08:31.545351",
     "exception": false,
     "start_time": "2021-09-25T18:08:31.477755",
     "status": "completed"
    },
    "tags": []
   },
   "outputs": [
    {
     "name": "stdout",
     "output_type": "stream",
     "text": [
      "<class 'pandas.core.frame.DataFrame'>\n",
      "RangeIndex: 9495 entries, 0 to 9494\n",
      "Data columns (total 13 columns):\n",
      " #   Column                     Non-Null Count  Dtype  \n",
      "---  ------                     --------------  -----  \n",
      " 0   Customer_ID                9495 non-null   object \n",
      " 1   No_of_orders_placed        9197 non-null   float64\n",
      " 2   Category_of_customers      9495 non-null   object \n",
      " 3   Maximum_bill               9495 non-null   float64\n",
      " 4   Minimum_bill               9495 non-null   float64\n",
      " 5   Last_order_placed_date     9495 non-null   object \n",
      " 6   No_of_issues_raised        9197 non-null   float64\n",
      " 7   Customer_rating            9495 non-null   int64  \n",
      " 8   Average_food_rating        9495 non-null   int64  \n",
      " 9   Average_happiness_rating   9495 non-null   int64  \n",
      " 10  Coupon_consumption_status  9278 non-null   float64\n",
      " 11  Coupons_offered            9190 non-null   float64\n",
      " 12  Premium_membership         9495 non-null   object \n",
      "dtypes: float64(6), int64(3), object(4)\n",
      "memory usage: 964.5+ KB\n"
     ]
    }
   ],
   "source": [
    "test_data.info()"
   ]
  },
  {
   "cell_type": "code",
   "execution_count": 34,
   "id": "80600a0f",
   "metadata": {
    "execution": {
     "iopub.execute_input": "2021-09-25T18:08:31.669113Z",
     "iopub.status.busy": "2021-09-25T18:08:31.666399Z",
     "iopub.status.idle": "2021-09-25T18:08:33.067410Z",
     "shell.execute_reply": "2021-09-25T18:08:33.066602Z",
     "shell.execute_reply.started": "2021-09-25T14:33:00.038719Z"
    },
    "papermill": {
     "duration": 1.475231,
     "end_time": "2021-09-25T18:08:33.067602",
     "exception": false,
     "start_time": "2021-09-25T18:08:31.592371",
     "status": "completed"
    },
    "tags": []
   },
   "outputs": [
    {
     "name": "stderr",
     "output_type": "stream",
     "text": [
      "/opt/conda/lib/python3.7/site-packages/pandas/core/indexing.py:1732: SettingWithCopyWarning: \n",
      "A value is trying to be set on a copy of a slice from a DataFrame\n",
      "\n",
      "See the caveats in the documentation: https://pandas.pydata.org/pandas-docs/stable/user_guide/indexing.html#returning-a-view-versus-a-copy\n",
      "  self._setitem_single_block(indexer, value, name)\n"
     ]
    },
    {
     "name": "stdout",
     "output_type": "stream",
     "text": [
      "<class 'pandas.core.frame.DataFrame'>\n",
      "RangeIndex: 9495 entries, 0 to 9494\n",
      "Data columns (total 14 columns):\n",
      " #   Column                      Non-Null Count  Dtype  \n",
      "---  ------                      --------------  -----  \n",
      " 0   Customer_ID                 9495 non-null   object \n",
      " 1   No_of_orders_placed         9197 non-null   float64\n",
      " 2   Category_of_customers       9495 non-null   object \n",
      " 3   Maximum_bill                9495 non-null   float64\n",
      " 4   Minimum_bill                9495 non-null   float64\n",
      " 5   Last_order_placed_date      9495 non-null   object \n",
      " 6   No_of_issues_raised         9197 non-null   float64\n",
      " 7   Customer_rating             9495 non-null   int64  \n",
      " 8   Average_food_rating         9495 non-null   int64  \n",
      " 9   Average_happiness_rating    9495 non-null   int64  \n",
      " 10  Coupon_consumption_status   9278 non-null   float64\n",
      " 11  Coupons_offered             9190 non-null   float64\n",
      " 12  Premium_membership          9495 non-null   object \n",
      " 13  Coupon_consumption_percent  9495 non-null   float64\n",
      "dtypes: float64(7), int64(3), object(4)\n",
      "memory usage: 1.0+ MB\n"
     ]
    }
   ],
   "source": [
    "test_data[\"Coupon_consumption_percent\"]=[0]*len(test_data)\n",
    "\n",
    "for i in range(len(test_data)):\n",
    "    x=test_data[\"Coupon_consumption_status\"].iloc[i]\n",
    "    y=test_data[\"Coupons_offered\"].iloc[i]\n",
    "    \n",
    "    if not pd.isna(test_data[\"Coupons_offered\"].iloc[i]):\n",
    "        if pd.isna(test_data[\"Coupon_consumption_status\"].iloc[i]):\n",
    "            test_data[\"Coupon_consumption_percent\"].iloc[i]=0\n",
    "        else:\n",
    "            test_data[\"Coupon_consumption_percent\"].iloc[i]=x/y        \n",
    "    else:\n",
    "        if pd.isna(test_data[\"Coupon_consumption_status\"].iloc[i]):\n",
    "            test_data[\"Coupon_consumption_percent\"].iloc[i]=0\n",
    "        else:\n",
    "            test_data[\"Coupon_consumption_percent\"].iloc[i]=0.5\n",
    "            \n",
    "test_data.info()"
   ]
  },
  {
   "cell_type": "code",
   "execution_count": 35,
   "id": "41065e30",
   "metadata": {
    "execution": {
     "iopub.execute_input": "2021-09-25T18:08:33.167761Z",
     "iopub.status.busy": "2021-09-25T18:08:33.166729Z",
     "iopub.status.idle": "2021-09-25T18:08:33.187758Z",
     "shell.execute_reply": "2021-09-25T18:08:33.188260Z",
     "shell.execute_reply.started": "2021-09-25T14:33:02.834663Z"
    },
    "papermill": {
     "duration": 0.073308,
     "end_time": "2021-09-25T18:08:33.188447",
     "exception": false,
     "start_time": "2021-09-25T18:08:33.115139",
     "status": "completed"
    },
    "tags": []
   },
   "outputs": [
    {
     "name": "stdout",
     "output_type": "stream",
     "text": [
      "<class 'pandas.core.frame.DataFrame'>\n",
      "RangeIndex: 9495 entries, 0 to 9494\n",
      "Data columns (total 10 columns):\n",
      " #   Column                      Non-Null Count  Dtype  \n",
      "---  ------                      --------------  -----  \n",
      " 0   No_of_orders_placed         9495 non-null   float64\n",
      " 1   Category_of_customers       9495 non-null   object \n",
      " 2   Maximum_bill                9495 non-null   float64\n",
      " 3   Minimum_bill                9495 non-null   float64\n",
      " 4   Last_order_placed_date      9495 non-null   object \n",
      " 5   Customer_rating             9495 non-null   int64  \n",
      " 6   Average_food_rating         9495 non-null   int64  \n",
      " 7   Average_happiness_rating    9495 non-null   int64  \n",
      " 8   Premium_membership          9495 non-null   object \n",
      " 9   Coupon_consumption_percent  9495 non-null   float64\n",
      "dtypes: float64(4), int64(3), object(3)\n",
      "memory usage: 741.9+ KB\n"
     ]
    }
   ],
   "source": [
    "#Droping Customer_id,\"Coupon_consumption_status\",\"Coupons_offered\"\n",
    "#Dropping No_of_issues_raised since it is perfectly correlated to No_of_orders_placed\n",
    "\n",
    "ans=test_data[\"Customer_ID\"].copy(deep=True)\n",
    "ans=ans.to_frame()\n",
    "\n",
    "test_data.drop(columns=[\"Customer_ID\",\"Coupon_consumption_status\",\"Coupons_offered\",\"No_of_issues_raised\"],inplace=True)\n",
    "\n",
    "#Filling Null values\n",
    "\n",
    "test_data[[\"No_of_orders_placed\"]]=test_data[[\"No_of_orders_placed\"]].fillna(value=0.0)\n",
    "test_data.info()\n"
   ]
  },
  {
   "cell_type": "code",
   "execution_count": 36,
   "id": "b2821257",
   "metadata": {
    "execution": {
     "iopub.execute_input": "2021-09-25T18:08:33.323462Z",
     "iopub.status.busy": "2021-09-25T18:08:33.286311Z",
     "iopub.status.idle": "2021-09-25T18:08:38.788644Z",
     "shell.execute_reply": "2021-09-25T18:08:38.789125Z",
     "shell.execute_reply.started": "2021-09-25T14:33:05.520727Z"
    },
    "papermill": {
     "duration": 5.553367,
     "end_time": "2021-09-25T18:08:38.789305",
     "exception": false,
     "start_time": "2021-09-25T18:08:33.235938",
     "status": "completed"
    },
    "tags": []
   },
   "outputs": [
    {
     "data": {
      "text/html": [
       "<div>\n",
       "<style scoped>\n",
       "    .dataframe tbody tr th:only-of-type {\n",
       "        vertical-align: middle;\n",
       "    }\n",
       "\n",
       "    .dataframe tbody tr th {\n",
       "        vertical-align: top;\n",
       "    }\n",
       "\n",
       "    .dataframe thead th {\n",
       "        text-align: right;\n",
       "    }\n",
       "</style>\n",
       "<table border=\"1\" class=\"dataframe\">\n",
       "  <thead>\n",
       "    <tr style=\"text-align: right;\">\n",
       "      <th></th>\n",
       "      <th>No_of_orders_placed</th>\n",
       "      <th>Category_of_customers</th>\n",
       "      <th>Maximum_bill</th>\n",
       "      <th>Minimum_bill</th>\n",
       "      <th>Last_order_placed_date</th>\n",
       "      <th>Customer_rating</th>\n",
       "      <th>Average_food_rating</th>\n",
       "      <th>Average_happiness_rating</th>\n",
       "      <th>Premium_membership</th>\n",
       "      <th>Coupon_consumption_percent</th>\n",
       "    </tr>\n",
       "  </thead>\n",
       "  <tbody>\n",
       "    <tr>\n",
       "      <th>0</th>\n",
       "      <td>0.0</td>\n",
       "      <td>Passive</td>\n",
       "      <td>3107.81</td>\n",
       "      <td>104.180000</td>\n",
       "      <td>777</td>\n",
       "      <td>4</td>\n",
       "      <td>4</td>\n",
       "      <td>4</td>\n",
       "      <td>No</td>\n",
       "      <td>0.423913</td>\n",
       "    </tr>\n",
       "    <tr>\n",
       "      <th>1</th>\n",
       "      <td>87.0</td>\n",
       "      <td>Passive</td>\n",
       "      <td>1565.53</td>\n",
       "      <td>119.000000</td>\n",
       "      <td>877</td>\n",
       "      <td>4</td>\n",
       "      <td>4</td>\n",
       "      <td>2</td>\n",
       "      <td>Yes</td>\n",
       "      <td>0.719008</td>\n",
       "    </tr>\n",
       "    <tr>\n",
       "      <th>2</th>\n",
       "      <td>209.0</td>\n",
       "      <td>Active</td>\n",
       "      <td>2513.15</td>\n",
       "      <td>113.340000</td>\n",
       "      <td>246</td>\n",
       "      <td>4</td>\n",
       "      <td>4</td>\n",
       "      <td>4</td>\n",
       "      <td>Yes</td>\n",
       "      <td>0.445312</td>\n",
       "    </tr>\n",
       "    <tr>\n",
       "      <th>3</th>\n",
       "      <td>61.0</td>\n",
       "      <td>Passive</td>\n",
       "      <td>2277.55</td>\n",
       "      <td>53.199684</td>\n",
       "      <td>941</td>\n",
       "      <td>4</td>\n",
       "      <td>5</td>\n",
       "      <td>5</td>\n",
       "      <td>No</td>\n",
       "      <td>0.670330</td>\n",
       "    </tr>\n",
       "    <tr>\n",
       "      <th>4</th>\n",
       "      <td>218.0</td>\n",
       "      <td>Active</td>\n",
       "      <td>3117.99</td>\n",
       "      <td>344.070000</td>\n",
       "      <td>359</td>\n",
       "      <td>4</td>\n",
       "      <td>3</td>\n",
       "      <td>4</td>\n",
       "      <td>No</td>\n",
       "      <td>0.433962</td>\n",
       "    </tr>\n",
       "  </tbody>\n",
       "</table>\n",
       "</div>"
      ],
      "text/plain": [
       "   No_of_orders_placed Category_of_customers  Maximum_bill  Minimum_bill  \\\n",
       "0                  0.0               Passive       3107.81    104.180000   \n",
       "1                 87.0               Passive       1565.53    119.000000   \n",
       "2                209.0                Active       2513.15    113.340000   \n",
       "3                 61.0               Passive       2277.55     53.199684   \n",
       "4                218.0                Active       3117.99    344.070000   \n",
       "\n",
       "   Last_order_placed_date  Customer_rating  Average_food_rating  \\\n",
       "0                     777                4                    4   \n",
       "1                     877                4                    4   \n",
       "2                     246                4                    4   \n",
       "3                     941                4                    5   \n",
       "4                     359                4                    3   \n",
       "\n",
       "   Average_happiness_rating Premium_membership  Coupon_consumption_percent  \n",
       "0                         4                 No                    0.423913  \n",
       "1                         2                Yes                    0.719008  \n",
       "2                         4                Yes                    0.445312  \n",
       "3                         5                 No                    0.670330  \n",
       "4                         4                 No                    0.433962  "
      ]
     },
     "execution_count": 36,
     "metadata": {},
     "output_type": "execute_result"
    }
   ],
   "source": [
    "#converting last_order_date to days\n",
    "test_data[\"Last_order_placed_date\"]=pd.to_datetime(\"2021-09-25\")-pd.to_datetime(test_data[\"Last_order_placed_date\"])\n",
    "for i in range(len(test_data)):\n",
    "    test_data[\"Last_order_placed_date\"].iloc[i]=str(test_data[\"Last_order_placed_date\"].iloc[i]).split()[0]\n",
    "test_data[\"Last_order_placed_date\"]=pd.to_numeric(test_data[\"Last_order_placed_date\"])\n",
    "test_data.head()"
   ]
  },
  {
   "cell_type": "code",
   "execution_count": 37,
   "id": "6c2df75c",
   "metadata": {
    "execution": {
     "iopub.execute_input": "2021-09-25T18:08:38.891940Z",
     "iopub.status.busy": "2021-09-25T18:08:38.891206Z",
     "iopub.status.idle": "2021-09-25T18:08:38.911553Z",
     "shell.execute_reply": "2021-09-25T18:08:38.911991Z",
     "shell.execute_reply.started": "2021-09-25T14:33:24.690489Z"
    },
    "papermill": {
     "duration": 0.074358,
     "end_time": "2021-09-25T18:08:38.912160",
     "exception": false,
     "start_time": "2021-09-25T18:08:38.837802",
     "status": "completed"
    },
    "tags": []
   },
   "outputs": [
    {
     "data": {
      "text/html": [
       "<div>\n",
       "<style scoped>\n",
       "    .dataframe tbody tr th:only-of-type {\n",
       "        vertical-align: middle;\n",
       "    }\n",
       "\n",
       "    .dataframe tbody tr th {\n",
       "        vertical-align: top;\n",
       "    }\n",
       "\n",
       "    .dataframe thead th {\n",
       "        text-align: right;\n",
       "    }\n",
       "</style>\n",
       "<table border=\"1\" class=\"dataframe\">\n",
       "  <thead>\n",
       "    <tr style=\"text-align: right;\">\n",
       "      <th></th>\n",
       "      <th>No_of_orders_placed</th>\n",
       "      <th>Maximum_bill</th>\n",
       "      <th>Minimum_bill</th>\n",
       "      <th>Last_order_placed_date</th>\n",
       "      <th>Customer_rating</th>\n",
       "      <th>Average_food_rating</th>\n",
       "      <th>Average_happiness_rating</th>\n",
       "      <th>Coupon_consumption_percent</th>\n",
       "      <th>status_Active</th>\n",
       "      <th>status_Inactive</th>\n",
       "      <th>status_Passive</th>\n",
       "      <th>premium_No</th>\n",
       "      <th>premium_Yes</th>\n",
       "    </tr>\n",
       "  </thead>\n",
       "  <tbody>\n",
       "    <tr>\n",
       "      <th>0</th>\n",
       "      <td>0.0</td>\n",
       "      <td>3107.81</td>\n",
       "      <td>104.180000</td>\n",
       "      <td>777</td>\n",
       "      <td>4</td>\n",
       "      <td>4</td>\n",
       "      <td>4</td>\n",
       "      <td>0.423913</td>\n",
       "      <td>0</td>\n",
       "      <td>0</td>\n",
       "      <td>1</td>\n",
       "      <td>1</td>\n",
       "      <td>0</td>\n",
       "    </tr>\n",
       "    <tr>\n",
       "      <th>1</th>\n",
       "      <td>87.0</td>\n",
       "      <td>1565.53</td>\n",
       "      <td>119.000000</td>\n",
       "      <td>877</td>\n",
       "      <td>4</td>\n",
       "      <td>4</td>\n",
       "      <td>2</td>\n",
       "      <td>0.719008</td>\n",
       "      <td>0</td>\n",
       "      <td>0</td>\n",
       "      <td>1</td>\n",
       "      <td>0</td>\n",
       "      <td>1</td>\n",
       "    </tr>\n",
       "    <tr>\n",
       "      <th>2</th>\n",
       "      <td>209.0</td>\n",
       "      <td>2513.15</td>\n",
       "      <td>113.340000</td>\n",
       "      <td>246</td>\n",
       "      <td>4</td>\n",
       "      <td>4</td>\n",
       "      <td>4</td>\n",
       "      <td>0.445312</td>\n",
       "      <td>1</td>\n",
       "      <td>0</td>\n",
       "      <td>0</td>\n",
       "      <td>0</td>\n",
       "      <td>1</td>\n",
       "    </tr>\n",
       "    <tr>\n",
       "      <th>3</th>\n",
       "      <td>61.0</td>\n",
       "      <td>2277.55</td>\n",
       "      <td>53.199684</td>\n",
       "      <td>941</td>\n",
       "      <td>4</td>\n",
       "      <td>5</td>\n",
       "      <td>5</td>\n",
       "      <td>0.670330</td>\n",
       "      <td>0</td>\n",
       "      <td>0</td>\n",
       "      <td>1</td>\n",
       "      <td>1</td>\n",
       "      <td>0</td>\n",
       "    </tr>\n",
       "    <tr>\n",
       "      <th>4</th>\n",
       "      <td>218.0</td>\n",
       "      <td>3117.99</td>\n",
       "      <td>344.070000</td>\n",
       "      <td>359</td>\n",
       "      <td>4</td>\n",
       "      <td>3</td>\n",
       "      <td>4</td>\n",
       "      <td>0.433962</td>\n",
       "      <td>1</td>\n",
       "      <td>0</td>\n",
       "      <td>0</td>\n",
       "      <td>1</td>\n",
       "      <td>0</td>\n",
       "    </tr>\n",
       "  </tbody>\n",
       "</table>\n",
       "</div>"
      ],
      "text/plain": [
       "   No_of_orders_placed  Maximum_bill  Minimum_bill  Last_order_placed_date  \\\n",
       "0                  0.0       3107.81    104.180000                     777   \n",
       "1                 87.0       1565.53    119.000000                     877   \n",
       "2                209.0       2513.15    113.340000                     246   \n",
       "3                 61.0       2277.55     53.199684                     941   \n",
       "4                218.0       3117.99    344.070000                     359   \n",
       "\n",
       "   Customer_rating  Average_food_rating  Average_happiness_rating  \\\n",
       "0                4                    4                         4   \n",
       "1                4                    4                         2   \n",
       "2                4                    4                         4   \n",
       "3                4                    5                         5   \n",
       "4                4                    3                         4   \n",
       "\n",
       "   Coupon_consumption_percent  status_Active  status_Inactive  status_Passive  \\\n",
       "0                    0.423913              0                0               1   \n",
       "1                    0.719008              0                0               1   \n",
       "2                    0.445312              1                0               0   \n",
       "3                    0.670330              0                0               1   \n",
       "4                    0.433962              1                0               0   \n",
       "\n",
       "   premium_No  premium_Yes  \n",
       "0           1            0  \n",
       "1           0            1  \n",
       "2           0            1  \n",
       "3           1            0  \n",
       "4           1            0  "
      ]
     },
     "execution_count": 37,
     "metadata": {},
     "output_type": "execute_result"
    }
   ],
   "source": [
    "#encoding non numeric values\n",
    "\n",
    "test_data = pd.get_dummies(test_data,prefix=[\"status\",\"premium\"],columns=[\"Category_of_customers\",\"Premium_membership\"])\n",
    "test_data.head()"
   ]
  },
  {
   "cell_type": "code",
   "execution_count": 38,
   "id": "418ab7f9",
   "metadata": {
    "execution": {
     "iopub.execute_input": "2021-09-25T18:08:39.015276Z",
     "iopub.status.busy": "2021-09-25T18:08:39.014384Z",
     "iopub.status.idle": "2021-09-25T18:08:39.017896Z",
     "shell.execute_reply": "2021-09-25T18:08:39.018405Z",
     "shell.execute_reply.started": "2021-09-25T14:33:36.988339Z"
    },
    "papermill": {
     "duration": 0.057254,
     "end_time": "2021-09-25T18:08:39.018577",
     "exception": false,
     "start_time": "2021-09-25T18:08:38.961323",
     "status": "completed"
    },
    "tags": []
   },
   "outputs": [
    {
     "data": {
      "text/plain": [
       "pandas.core.frame.DataFrame"
      ]
     },
     "execution_count": 38,
     "metadata": {},
     "output_type": "execute_result"
    }
   ],
   "source": [
    "type(ans)"
   ]
  },
  {
   "cell_type": "code",
   "execution_count": 39,
   "id": "c68381af",
   "metadata": {
    "execution": {
     "iopub.execute_input": "2021-09-25T18:08:39.120229Z",
     "iopub.status.busy": "2021-09-25T18:08:39.119197Z",
     "iopub.status.idle": "2021-09-25T18:08:39.639222Z",
     "shell.execute_reply": "2021-09-25T18:08:39.640126Z",
     "shell.execute_reply.started": "2021-09-25T14:33:42.890426Z"
    },
    "papermill": {
     "duration": 0.57299,
     "end_time": "2021-09-25T18:08:39.640408",
     "exception": false,
     "start_time": "2021-09-25T18:08:39.067418",
     "status": "completed"
    },
    "tags": []
   },
   "outputs": [
    {
     "data": {
      "text/html": [
       "<div>\n",
       "<style scoped>\n",
       "    .dataframe tbody tr th:only-of-type {\n",
       "        vertical-align: middle;\n",
       "    }\n",
       "\n",
       "    .dataframe tbody tr th {\n",
       "        vertical-align: top;\n",
       "    }\n",
       "\n",
       "    .dataframe thead th {\n",
       "        text-align: right;\n",
       "    }\n",
       "</style>\n",
       "<table border=\"1\" class=\"dataframe\">\n",
       "  <thead>\n",
       "    <tr style=\"text-align: right;\">\n",
       "      <th></th>\n",
       "      <th>Customer_ID</th>\n",
       "      <th>Discount_percentage</th>\n",
       "    </tr>\n",
       "  </thead>\n",
       "  <tbody>\n",
       "    <tr>\n",
       "      <th>0</th>\n",
       "      <td>ID0x6d88</td>\n",
       "      <td>36.191490</td>\n",
       "    </tr>\n",
       "    <tr>\n",
       "      <th>1</th>\n",
       "      <td>ID0xba29</td>\n",
       "      <td>32.466824</td>\n",
       "    </tr>\n",
       "    <tr>\n",
       "      <th>2</th>\n",
       "      <td>ID0xf2e7</td>\n",
       "      <td>47.900069</td>\n",
       "    </tr>\n",
       "    <tr>\n",
       "      <th>3</th>\n",
       "      <td>ID0xa1c2</td>\n",
       "      <td>31.845808</td>\n",
       "    </tr>\n",
       "    <tr>\n",
       "      <th>4</th>\n",
       "      <td>ID0xd67</td>\n",
       "      <td>38.769710</td>\n",
       "    </tr>\n",
       "  </tbody>\n",
       "</table>\n",
       "</div>"
      ],
      "text/plain": [
       "  Customer_ID  Discount_percentage\n",
       "0    ID0x6d88            36.191490\n",
       "1    ID0xba29            32.466824\n",
       "2    ID0xf2e7            47.900069\n",
       "3    ID0xa1c2            31.845808\n",
       "4     ID0xd67            38.769710"
      ]
     },
     "execution_count": 39,
     "metadata": {},
     "output_type": "execute_result"
    }
   ],
   "source": [
    "xt=test_data.to_numpy()\n",
    "ycap=st.predict(xt)\n",
    "ans[\"Discount_percentage\"]=ycap\n",
    "ans.head()\n",
    "# ans.to_csv(\"submission.csv\",index=False)"
   ]
  },
  {
   "cell_type": "code",
   "execution_count": 40,
   "id": "d43c5e1c",
   "metadata": {
    "execution": {
     "iopub.execute_input": "2021-09-25T18:08:39.793784Z",
     "iopub.status.busy": "2021-09-25T18:08:39.791524Z",
     "iopub.status.idle": "2021-09-25T18:08:39.834258Z",
     "shell.execute_reply": "2021-09-25T18:08:39.833650Z",
     "shell.execute_reply.started": "2021-09-25T14:33:58.527162Z"
    },
    "papermill": {
     "duration": 0.102734,
     "end_time": "2021-09-25T18:08:39.834434",
     "exception": false,
     "start_time": "2021-09-25T18:08:39.731700",
     "status": "completed"
    },
    "tags": []
   },
   "outputs": [],
   "source": [
    "ans.to_csv(\"submission.csv\",index=False)"
   ]
  },
  {
   "cell_type": "code",
   "execution_count": null,
   "id": "0d85767b",
   "metadata": {
    "papermill": {
     "duration": 0.049865,
     "end_time": "2021-09-25T18:08:39.936177",
     "exception": false,
     "start_time": "2021-09-25T18:08:39.886312",
     "status": "completed"
    },
    "tags": []
   },
   "outputs": [],
   "source": []
  }
 ],
 "metadata": {
  "kernelspec": {
   "display_name": "Python 3",
   "language": "python",
   "name": "python3"
  },
  "language_info": {
   "codemirror_mode": {
    "name": "ipython",
    "version": 3
   },
   "file_extension": ".py",
   "mimetype": "text/x-python",
   "name": "python",
   "nbconvert_exporter": "python",
   "pygments_lexer": "ipython3",
   "version": "3.7.10"
  },
  "papermill": {
   "default_parameters": {},
   "duration": 1095.165948,
   "end_time": "2021-09-25T18:08:41.603424",
   "environment_variables": {},
   "exception": null,
   "input_path": "__notebook__.ipynb",
   "output_path": "__notebook__.ipynb",
   "parameters": {},
   "start_time": "2021-09-25T17:50:26.437476",
   "version": "2.3.3"
  }
 },
 "nbformat": 4,
 "nbformat_minor": 5
}
